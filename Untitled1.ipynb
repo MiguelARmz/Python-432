{
  "nbformat": 4,
  "nbformat_minor": 0,
  "metadata": {
    "colab": {
      "provenance": [],
      "authorship_tag": "ABX9TyPsVrDqVeQh/US6iK8uw/x3",
      "include_colab_link": true
    },
    "kernelspec": {
      "name": "python3",
      "display_name": "Python 3"
    },
    "language_info": {
      "name": "python"
    }
  },
  "cells": [
    {
      "cell_type": "markdown",
      "metadata": {
        "id": "view-in-github",
        "colab_type": "text"
      },
      "source": [
        "<a href=\"https://colab.research.google.com/github/MiguelARmz/Python-432/blob/main/Untitled1.ipynb\" target=\"_parent\"><img src=\"https://colab.research.google.com/assets/colab-badge.svg\" alt=\"Open In Colab\"/></a>"
      ]
    },
    {
      "cell_type": "markdown",
      "source": [
        "#Actividad 9\n",
        "\n",
        "Nombre: Miguel Angel Ramirez Monjaraz     Matricula: 372205\n",
        "\n",
        "Grupo: 432-computacion\n",
        "\n",
        "Fecha:19/10/2023"
      ],
      "metadata": {
        "id": "hSWIKPWlVbF1"
      }
    },
    {
      "cell_type": "markdown",
      "source": [
        "ACTIVIDAD 9\n",
        "\n",
        "Realiza un programa en python que utilice el siguiente menu:\n",
        "\n",
        " MENU\n",
        "\n",
        " 1.- Crear Diccionario\n",
        "\n",
        " 2.- Imprimir Diccionario\n",
        "\n",
        " 0.- Salir\n",
        "\n"
      ],
      "metadata": {
        "id": "XsFbZl6qVkfq"
      }
    },
    {
      "cell_type": "code",
      "source": [
        "from IPython.display import clear_output\n",
        "import random\n",
        "import time"
      ],
      "metadata": {
        "id": "2c1iIc5G3ElY"
      },
      "execution_count": 2,
      "outputs": []
    },
    {
      "cell_type": "code",
      "source": [
        "def vali_num(msg):\n",
        "    salida = 1\n",
        "    while(salida == 1):\n",
        "            try:\n",
        "                n = input(f\"{msg}\")\n",
        "                n_entero = int(n)\n",
        "                if int(n):\n",
        "                    return n_entero\n",
        "            except ValueError:\n",
        "                print(\"No es un numero\")\n",
        "                print(\"Intenta de nuevo\")\n",
        "            else:\n",
        "                salida = 0"
      ],
      "metadata": {
        "id": "NbihCaRHTEqH"
      },
      "execution_count": 61,
      "outputs": []
    },
    {
      "cell_type": "code",
      "execution_count": 39,
      "metadata": {
        "id": "_UEwXec1tnF0"
      },
      "outputs": [],
      "source": [
        "\n",
        "import random\n",
        "\n",
        "def generar_registro():\n",
        "    # 0 - Hombre\n",
        "    # 1 - Mujer\n",
        "    sexo = random.randint(0, 100)\n",
        "    nombreHom = [\n",
        "    \"Pepe\", \"Juan\", \"Luis\", \"Enrique\", \"Tony\", \"Omar\", \"Danie\", \"Goku\", \"Aron\", \"Wicho\",\n",
        "    \"Pedro\", \"Liam\", \"Gael\", \"Marc\", \"Carlos\", \"Juan\", \"Ángel\", \"Dylan\", \"Nicolás\",\n",
        "    \"José\", \"Sergio\", \"Gabriel\", \"Luca\", \"Jorge\", \"Darío\", \"Íker\", \"Samuel\", \"Eric\", \"Adam\",\n",
        "    \"Fernando\", \"Andrés\", \"Antonio\", \"Miguel\", \"Rafael\", \"Alberto\", \"Roberto\", \"Mauricio\",\n",
        "    \"Alejandro\", \"Mateo\", \"Ricardo\", \"Rodrigo\", \"Daniel\", \"Héctor\", \"Manuel\", \"Eduardo\",\n",
        "    \"Raúl\", \"Arturo\", \"Javier\", \"Hugo\", \"Diego\", \"Esteban\", \"Felipe\", \"Martín\", \"Francisco\",\n",
        "    \"Julio\", \"Pablo\", \"Emilio\", \"Federico\", \"Marco\", \"Guillermo\", \"Sebastián\", \"Ignacio\",\n",
        "    \"Rodolfo\", \"Gustavo\", \"Carlos\", \"Tomás\", \"Víctor\", \"Josué\", \"Simón\", \"Enzo\", \"Joaquín\",\n",
        "    \"Renato\", \"César\", \"Luciano\", \"Adrián\", \"Ismael\", \"Ezequiel\", \"Gonzalo\", \"Rogelio\"]\n",
        "    nombreMuj = [\n",
        "    \"María\", \"Carmen\", \"Laura\", \"Josefa\", \"Isabel\", \"Ana\", \"Marta\", \"Cristina\", \"Lucia\", \"Francisca\",\n",
        "    \"Antonia\", \"Dolores\", \"Sara\", \"Paula\", \"Elena\", \"Raquel\", \"Manuela\", \"Pilar\", \"Mercedes\", \"Julia\",\n",
        "    \"Beatriz\", \"Rosa\", \"Teresa\", \"Victoria\", \"Patricia\", \"Daniela\", \"Natalia\", \"Camila\", \"Claudia\", \"Valentina\",\n",
        "    \"Mariana\", \"Carolina\", \"Adela\", \"Rosario\", \"Consuelo\", \"Adriana\", \"Ximena\", \"Rocio\", \"Lorena\", \"Guadalupe\",\n",
        "    \"Alicia\", \"Gloria\", \"Irene\", \"Eva\", \"Nora\", \"Angela\", \"Marina\", \"Cecilia\", \"Estela\", \"Gabriela\",\n",
        "    \"Rafaela\", \"Susana\", \"Paulina\", \"Renata\", \"Josefina\", \"Inés\", \"Sofía\", \"Marcela\", \"Fernanda\", \"Olga\",\n",
        "    \"Rita\", \"Regina\", \"Violeta\", \"Aurora\", \"Emilia\", \"Margarita\", \"Lourdes\", \"Roxana\", \"Irma\", \"Beatriz\",\n",
        "    \"Graciela\", \"Leonora\", \"Ángela\", \"Clarisa\", \"Elvira\", \"Hortensia\", \"Leonor\", \"Isidora\", \"Roberta\", \"Ofelia\"]\n",
        "    apellido = [\n",
        "    \"Hernández\", \"García\", \"Martínez\", \"López\", \"González\", \"Pérez\", \"Rodríguez\", \"Sánchez\", \"Ramírez\", \"Cruz\",\n",
        "    \"Gómez\", \"Flores\", \"Morales\", \"Vázquez\", \"Jiménez\", \"Reyes\", \"Díaz\", \"Torres\", \"Gutiérrez\", \"Ruiz\",\n",
        "    \"Fernández\", \"Luna\", \"Rojas\", \"Ortega\", \"Castillo\", \"Soto\", \"Cabrera\", \"Gonzales\", \"Mendoza\", \"Silva\",\n",
        "    \"Vega\", \"Valdez\", \"Pacheco\", \"Delgado\", \"Nuñez\", \"Herrera\", \"Medina\", \"Ríos\", \"Salazar\", \"Guerrero\",\n",
        "    \"Calderón\", \"Arroyo\", \"Paredes\", \"Molina\", \"Bautista\", \"Contreras\", \"Peralta\", \"Álvarez\", \"Gallegos\", \"Zamora\",\n",
        "    \"Cisneros\", \"Navarro\", \"Castañeda\", \"Escobar\", \"Parra\", \"Solís\", \"Tovar\", \"Gallardo\", \"Santos\", \"Villanueva\",\n",
        "    \"Aguirre\", \"Bravo\", \"Bustamante\", \"Chávez\", \"Figueroa\", \"Miranda\", \"Olivares\", \"Peña\", \"Quintero\", \"Santana\",\n",
        "    \"Valencia\", \"Zavala\", \"Andrade\", \"Baez\", \"Corona\", \"Espinoza\", \"Guzmán\", \"Lara\", \"Montoya\", \"Vidal\"]\n",
        "\n",
        "    apellidop = random.choice(apellido)\n",
        "    apellidom = random.choice(apellido)\n",
        "    edad = random.randint(13, 90)\n",
        "\n",
        "    if sexo % 2 == 0:\n",
        "        nombre = random.choice(nombreHom)\n",
        "    else:\n",
        "        nombre = random.choice(nombreMuj)\n",
        "\n",
        "    regis = (nombre, apellidop, apellidom, edad)\n",
        "    return regis\n",
        "\n",
        "\n",
        "\n"
      ]
    },
    {
      "cell_type": "code",
      "source": [
        "def imprimir(registros):\n",
        "    # Encabezado de la tabla\n",
        "    print(\"Nombre | Apellido paterno | Apellido materno | Edad\")\n",
        "    print(\"-\" * 45)\n",
        "\n",
        "    for registro in registros:\n",
        "        nombre, apellidop, apellidom, edad = registro\n",
        "        print(f\"{nombre:8} | {apellidop:16} | {apellidom:16} | {edad:3}\")"
      ],
      "metadata": {
        "id": "JimbZa-zbMAH"
      },
      "execution_count": 40,
      "outputs": []
    },
    {
      "cell_type": "code",
      "source": [
        "registros = []\n",
        "\n",
        "while True:\n",
        "    print(\"\\n           MENU           \")\n",
        "    print(\"1 - Crear diccionario\")\n",
        "    print(\"2 - Imprimir diccionario \")\n",
        "    print(\"3 - Salir\")\n",
        "    op = vali_num(\"Que deseas hacer? \")\n",
        "    if op == 1:\n",
        "        for i in range(10):\n",
        "            registro = generar_registro()\n",
        "            registros.append(registro)\n",
        "    elif op == 2:\n",
        "        if registros:\n",
        "            imprimir(registros)\n",
        "        else:\n",
        "            print(\"No hay registros para imprimir.\")\n",
        "    elif op == 3:\n",
        "        break\n"
      ],
      "metadata": {
        "id": "gApGDJePQAqg"
      },
      "execution_count": null,
      "outputs": []
    }
  ]
}