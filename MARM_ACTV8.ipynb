{
  "nbformat": 4,
  "nbformat_minor": 0,
  "metadata": {
    "colab": {
      "provenance": [],
      "authorship_tag": "ABX9TyOroXmnvcoe5e4Y+n8WM3G4",
      "include_colab_link": true
    },
    "kernelspec": {
      "name": "python3",
      "display_name": "Python 3"
    },
    "language_info": {
      "name": "python"
    }
  },
  "cells": [
    {
      "cell_type": "markdown",
      "metadata": {
        "id": "view-in-github",
        "colab_type": "text"
      },
      "source": [
        "<a href=\"https://colab.research.google.com/github/MiguelARmz/Python-432/blob/main/MARM_ACTV8.ipynb\" target=\"_parent\"><img src=\"https://colab.research.google.com/assets/colab-badge.svg\" alt=\"Open In Colab\"/></a>"
      ]
    },
    {
      "cell_type": "markdown",
      "source": [
        "#Actividad 8\n",
        "\n",
        "Nombre: Miguel Angel Ramirez Monjaraz     Matricula: 372205\n",
        "\n",
        "Grupo: 432-computacion\n",
        "\n",
        "Fecha:11/10/2023"
      ],
      "metadata": {
        "id": "ine_Qg7yCgTq"
      }
    },
    {
      "cell_type": "code",
      "execution_count": 1,
      "metadata": {
        "id": "HWBHHWBpr2iI"
      },
      "outputs": [],
      "source": [
        "import random\n",
        "from IPython.display import clear_output\n",
        "import time\n"
      ]
    },
    {
      "cell_type": "code",
      "source": [
        "def vali_num(msge,msge2):\n",
        "    salida = 1\n",
        "    while(salida == 1):\n",
        "            try:\n",
        "                print(msge)\n",
        "                n = input(f\"{msge2}\")\n",
        "                n_entero = int(n)\n",
        "                if int(n):\n",
        "                    return n_entero\n",
        "            except ValueError:\n",
        "                print(\"No es un numero\")\n",
        "                print(\"Intenta de nuevo\")\n",
        "            else:\n",
        "                salida = 0\n"
      ],
      "metadata": {
        "id": "DnUT63Otsl4Y"
      },
      "execution_count": null,
      "outputs": []
    },
    {
      "cell_type": "code",
      "source": [
        "def juego1():\n",
        "    num = random.randint(1,10)\n",
        "    acer = 1\n",
        "    c=2\n",
        "    while(c>=0):\n",
        "        msge = \"Que numero crees que salio ?\"\n",
        "        msge2 = \"Ingrese un número: \"\n",
        "        usuario = vali_num(msge,msge2)\n",
        "        if(usuario == num):\n",
        "            print(f\"Has acertado! al intento numero {acer}\")\n",
        "            return 1\n",
        "            break\n",
        "        if c!= 0:\n",
        "            print(f\"Te quedan {c} intento mas......\")\n",
        "        else:\n",
        "            print(f\"Sin intentos disponibles, suerte a la proxima......\")\n",
        "            clear_output(wait=True)\n",
        "            return 0\n",
        "        acer += 1\n",
        "        c -= 1"
      ],
      "metadata": {
        "id": "yidJxMLqsS2R"
      },
      "execution_count": null,
      "outputs": []
    },
    {
      "cell_type": "code",
      "source": [
        "decision = 1\n",
        "ganado = 0\n",
        "perdido = 0\n",
        "while(decision == 1):\n",
        "    juego = juego1()\n",
        "    if juego == 1:\n",
        "        ganado += 1\n",
        "    if juego == 0:\n",
        "        perdido += 1\n",
        "    clear_output(wait=True)\n",
        "    time.sleep(5)\n",
        "    print(\"INGRESA:\")\n",
        "    print(\"1 - SI DESEAS CONTINUAR \")\n",
        "    print(\"CUALQUIER NUMERO - SI DESEAS TERMINAR \")\n",
        "    des = \"Deseas seguir jugando?\"\n",
        "    des2 = \"Ingresa tu decision : \"\n",
        "    decision = vali_num(des,des2)\n",
        "    clear_output(wait=True)\n",
        "    time.sleep(2)\n",
        "\n",
        "print(f\"Ganaste {ganado}\")\n",
        "print(f\"Perdiste {perdido}\")"
      ],
      "metadata": {
        "colab": {
          "base_uri": "https://localhost:8080/"
        },
        "id": "f4crxIZ8WhWa",
        "outputId": "6dafdd29-eb95-40dd-b3b6-ad6db8a1a52c"
      },
      "execution_count": null,
      "outputs": [
        {
          "output_type": "stream",
          "name": "stdout",
          "text": [
            "Ganaste 0\n",
            "Perdiste 2\n"
          ]
        }
      ]
    },
    {
      "cell_type": "markdown",
      "source": [
        "2.- El juego Busca Número muestra una lista de 10 numeros, sin mostrar su contenido,\n",
        "\n",
        "Al usuario se le muestra un número que se generó aleatoriamente y el usuario tendrá 3 intentos de adivinar en qué índice del arreglo se encuentra.\n",
        "\n",
        "El usuario recibirá un mensaje que diga GANASTE, PERDISTE, TIENES UN NUEVO INTENTO\n",
        "\n",
        "El usuario podrá jugar cuantas veces lo desee.\n",
        "\n",
        "\n",
        "\n",
        "NOTA: La lista se deberá llenar con números aleatorios del 1 al 10 no repetidos.\n",
        "\n",
        "(Hacer una función que regrese la lista con los 10 números sin repetir)"
      ],
      "metadata": {
        "id": "eUTJQoSVfHhT"
      }
    },
    {
      "cell_type": "markdown",
      "source": [
        "# VERSION A"
      ],
      "metadata": {
        "id": "O9ivBILdnJVE"
      }
    },
    {
      "cell_type": "code",
      "source": [
        "def juego2A():\n",
        "    lista = []\n",
        "    ###########\n",
        "    while(len(lista) < 10):\n",
        "        num = random.randint(1,10)\n",
        "        if num not in lista:\n",
        "            lista.append(num)\n",
        "    for i in range(len(lista)):\n",
        "        print(\"[x]\",end='')\n",
        "    alea = random.randint(1,10)\n",
        "    print()\n",
        "    print(lista[alea])\n",
        "\n",
        "    buena = 1\n",
        "    fallo = 2\n",
        "    while(fallo>=0):\n",
        "        msg1 = \"En que indice crees que este el numero? \"\n",
        "        msg2 = \"Ingrese la respuesta: \"\n",
        "        usuario = vali_num(msg1,msg2)\n",
        "        if(usuario == num):\n",
        "            print(f\"Has acertado! al intento numero {buena}\")\n",
        "            return 1\n",
        "            break\n",
        "        else:\n",
        "            if fallo!= 0:\n",
        "                print(f\"Te quedan {fallo} intento mas......\")\n",
        "            else:\n",
        "                print(f\"Sin intentos disponibles, suerte a la proxima......\")\n",
        "                clear_output(wait=True)\n",
        "                return 0\n",
        "        fallo -= 1\n",
        "        buena += 1"
      ],
      "metadata": {
        "id": "c4LWctC3joQy"
      },
      "execution_count": null,
      "outputs": []
    },
    {
      "cell_type": "code",
      "source": [
        "res = 1\n",
        "gano = 0\n",
        "perdio = 0\n",
        "while(res == 1):\n",
        "    jue = juego2A()\n",
        "    if jue == 1:\n",
        "        gano += 1\n",
        "    if jue == 0:\n",
        "        perdio += 1\n",
        "    clear_output(wait=True)\n",
        "    time.sleep(2)\n",
        "    print(\"INGRESA:\")\n",
        "    print(\"1 - SI DESEAS CONTINUAR \")\n",
        "    print(\"CUALQUIER NUMERO - SI DESEAS TERMINAR \")\n",
        "    d = \"Deseas seguir jugando?\"\n",
        "    d2 = \"Ingresa tu decision : \"\n",
        "    res = vali_num(d,d2)\n",
        "    clear_output(wait=True)\n",
        "    time.sleep(2)\n",
        "\n",
        "print(f\"Ganaste {gano}\")\n",
        "print(f\"Perdiste {perdio}\")"
      ],
      "metadata": {
        "colab": {
          "base_uri": "https://localhost:8080/"
        },
        "id": "gHChientmyxd",
        "outputId": "d87abbfd-47cf-46b4-a945-b9018828e35d"
      },
      "execution_count": null,
      "outputs": [
        {
          "output_type": "stream",
          "name": "stdout",
          "text": [
            "Ganaste 1\n",
            "Perdiste 0\n"
          ]
        }
      ]
    },
    {
      "cell_type": "markdown",
      "source": [
        "# VERSION B"
      ],
      "metadata": {
        "id": "enflB5cRYA_n"
      }
    },
    {
      "cell_type": "code",
      "source": [
        "def juego2B():\n",
        "    lista = []\n",
        "    lista = range(1,11)\n",
        "    lista = random.sample(lista,10)\n",
        "    num = random.randint(1,10)\n",
        "\n",
        "    for i in range(len(lista)):\n",
        "        print(\"[x]\",end='')\n",
        "    alea = random.randint(1,10)\n",
        "    print()\n",
        "    print(lista[alea])\n",
        "\n",
        "    buena = 1\n",
        "    fallo = 2\n",
        "    while(fallo>=0):\n",
        "        msg1 = \"En que indice crees que este el numero? \"\n",
        "        msg2 = \"Ingrese la respuesta: \"\n",
        "        usuario = vali_num(msg1,msg2)\n",
        "        if(usuario == num):\n",
        "            print(f\"Has acertado! al intento numero {buena}\")\n",
        "            return 1\n",
        "            break\n",
        "        else:\n",
        "            if fallo!= 0:\n",
        "                print(f\"Te quedan {fallo} intento mas......\")\n",
        "            else:\n",
        "                print(f\"Sin intentos disponibles, suerte a la proxima......\")\n",
        "                clear_output(wait=True)\n",
        "                return 0\n",
        "        fallo -= 1\n",
        "        buena += 1"
      ],
      "metadata": {
        "id": "L_t9rPjJYFn3"
      },
      "execution_count": null,
      "outputs": []
    },
    {
      "cell_type": "code",
      "source": [
        "resp = 1\n",
        "win = 0\n",
        "fail = 0\n",
        "while(resp == 1):\n",
        "    jue = juego2B()\n",
        "    if jue == 1:\n",
        "        win += 1\n",
        "    if jue == 0:\n",
        "        fail += 1\n",
        "    clear_output(wait=True)\n",
        "    time.sleep(2)\n",
        "    print(\"INGRESA:\")\n",
        "    print(\"1 - SI DESEAS CONTINUAR \")\n",
        "    print(\"CUALQUIER NUMERO - SI DESEAS TERMINAR \")\n",
        "    mensaje1 = \"Deseas seguir jugando?\"\n",
        "    mensaje2 = \"Ingresa tu decision : \"\n",
        "    resp = vali_num(mensaje1,mensaje2)\n",
        "    clear_output(wait=True)\n",
        "    time.sleep(2)\n",
        "\n",
        "print(f\"Ganaste {win}\")\n",
        "print(f\"Perdiste {fail}\")"
      ],
      "metadata": {
        "id": "W0rGK45ggth1",
        "colab": {
          "base_uri": "https://localhost:8080/"
        },
        "outputId": "c0069640-ef53-4fe6-f36b-dd24cdd68e81"
      },
      "execution_count": null,
      "outputs": [
        {
          "output_type": "stream",
          "name": "stdout",
          "text": [
            "Ganaste 0\n",
            "Perdiste 1\n"
          ]
        }
      ]
    },
    {
      "cell_type": "markdown",
      "source": [
        "# VERSION C"
      ],
      "metadata": {
        "id": "7IlIsXhLpNFw"
      }
    },
    {
      "cell_type": "code",
      "source": [
        "def juego3C():\n",
        "    lista = [1,2,3,4,5,6,7,8,9,1]\n",
        "    random.shuffle(lista)\n",
        "    num = random.randint(1,10)\n",
        "\n",
        "    for i in range(len(lista)):\n",
        "        print(\"[x]\",end='')\n",
        "    alea = random.randint(1,10)\n",
        "    print()\n",
        "    print(lista[alea])\n",
        "\n",
        "    buena = 1\n",
        "    fallo = 2\n",
        "    while(fallo>=0):\n",
        "        msg1 = \"En que indice crees que este el numero? \"\n",
        "        msg2 = \"Ingrese la respuesta: \"\n",
        "        usuario = vali_num(msg1,msg2)\n",
        "        if(usuario == num):\n",
        "            print(f\"Has acertado! al intento numero {buena}\")\n",
        "            return 1\n",
        "            break\n",
        "        else:\n",
        "            if fallo!= 0:\n",
        "                print(f\"Te quedan {fallo} intento mas......\")\n",
        "            else:\n",
        "                print(f\"Sin intentos disponibles, suerte a la proxima......\")\n",
        "                clear_output(wait=True)\n",
        "                return 0\n",
        "        fallo -= 1\n",
        "        buena += 1"
      ],
      "metadata": {
        "id": "BA_b6nzBpRKf"
      },
      "execution_count": null,
      "outputs": []
    },
    {
      "cell_type": "code",
      "source": [
        "resp = 1\n",
        "agano = 0\n",
        "aperdio = 0\n",
        "while(resp == 1):\n",
        "    jue = juego3C()\n",
        "    if jue == 1:\n",
        "        agano += 1\n",
        "    if jue == 0:\n",
        "        aperdio += 1\n",
        "    clear_output(wait=True)\n",
        "    time.sleep(2)\n",
        "    print(\"INGRESA:\")\n",
        "    print(\"1 - SI DESEAS CONTINUAR \")\n",
        "    print(\"CUALQUIER NUMERO - SI DESEAS TERMINAR \")\n",
        "    mensaje1 = \"Deseas seguir jugando?\"\n",
        "    mensaje2 = \"Ingresa tu decision : \"\n",
        "    resp = vali_num(mensaje1,mensaje2)\n",
        "    clear_output(wait=True)\n",
        "    time.sleep(2)\n",
        "\n",
        "print(f\"Ganaste {agano}\")\n",
        "print(f\"Perdiste {aperdio}\")"
      ],
      "metadata": {
        "colab": {
          "base_uri": "https://localhost:8080/"
        },
        "id": "ayB5nZW6p2el",
        "outputId": "69af2b75-ce10-4e87-c5d0-19bbf311ecc9"
      },
      "execution_count": null,
      "outputs": [
        {
          "output_type": "stream",
          "name": "stdout",
          "text": [
            "Ganaste 0\n",
            "Perdiste 2\n"
          ]
        }
      ]
    },
    {
      "cell_type": "markdown",
      "source": [],
      "metadata": {
        "id": "fRtKKg23CvJb"
      }
    }
  ]
}