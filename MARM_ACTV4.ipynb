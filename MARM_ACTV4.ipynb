{
  "nbformat": 4,
  "nbformat_minor": 0,
  "metadata": {
    "colab": {
      "provenance": [],
      "authorship_tag": "ABX9TyMD5Lu5naxLavMoXkjrpSZm",
      "include_colab_link": true
    },
    "kernelspec": {
      "name": "python3",
      "display_name": "Python 3"
    },
    "language_info": {
      "name": "python"
    }
  },
  "cells": [
    {
      "cell_type": "markdown",
      "metadata": {
        "id": "view-in-github",
        "colab_type": "text"
      },
      "source": [
        "<a href=\"https://colab.research.google.com/github/MiguelARmz/Python-432/blob/main/MARM_ACTV4.ipynb\" target=\"_parent\"><img src=\"https://colab.research.google.com/assets/colab-badge.svg\" alt=\"Open In Colab\"/></a>"
      ]
    },
    {
      "cell_type": "markdown",
      "source": [
        "1.- Programa en python   que lea 3 calificaciones calcule el promedio del alumno y desplegar:"
      ],
      "metadata": {
        "id": "e5QhDLmKE_bL"
      }
    },
    {
      "cell_type": "code",
      "execution_count": 5,
      "metadata": {
        "colab": {
          "base_uri": "https://localhost:8080/"
        },
        "id": "dCcCWTA5EnNA",
        "outputId": "bac9ced6-4068-4b2f-eb1d-0f81992d0c7a"
      },
      "outputs": [
        {
          "output_type": "stream",
          "name": "stdout",
          "text": [
            "Cual es la calificacion 1: 0\n",
            "Cual es la calificacion 2: 1000\n",
            "Error: El número debe estar entre 0 y 100.\n"
          ]
        }
      ],
      "source": [
        "try:\n",
        "    cal1 = float(input(\"Cual es la calificacion 1: \"))\n",
        "    if cal1 < 0 or cal1 > 100:\n",
        "        raise ValueError(\"El número debe estar entre 0 y 100.\")\n",
        "    cal2 = float(input(\"Cual es la calificacion 2: \"))\n",
        "    if cal2 < 0 or cal2 > 100:\n",
        "        raise ValueError(\"El número debe estar entre 0 y 100.\")\n",
        "    cal3 = float(input(\"Cual es la calificacion 3: \"))\n",
        "    if cal3 < 0 or cal3 > 100:\n",
        "        raise ValueError(\"El número debe estar entre 0 y 100.\")\n",
        "\n",
        "    promedio = (cal1 + cal2 + cal3)/3\n",
        "except ValueError as e:\n",
        "    print(\"Error:\", e)\n",
        "except TypeError:\n",
        "    print(\"Ingresaste simbolos raros\")\n",
        "except:\n",
        "    print(\"Te fallo\")\n",
        "else:\n",
        "    if promedio < 30:\n",
        "        print(f\"A REPETIR \")\n",
        "    elif promedio < 60:\n",
        "        print(f\"TE VAS A EXTRA \")\n",
        "    elif promedio < 70:\n",
        "        print(f\"ERES SUFICIENTE \")\n",
        "    elif promedio < 80:\n",
        "        print(f\"REGULAR\")\n",
        "    elif promedio < 90:\n",
        "        print(f\"BIEN \")\n",
        "    elif promedio < 98:\n",
        "        print(f\"MUY BIEN \")\n",
        "    elif promedio <= 100:\n",
        "        print(f\"EXCELENTE \")\n",
        "    else:\n",
        "        print(f\"ERROR \")\n"
      ]
    },
    {
      "cell_type": "markdown",
      "source": [
        "2.- Programa en Python que sirva para calcular el salario semanal de un trabajador donde se obtiene como dato de entrada las horas semanales trabajadas, el salario por hora.\n",
        "\n",
        "El programa deberá calcular el salario normal, salario extra y salario total, considerando lo siguiente:\n",
        "\n",
        "Jornada Normal de 40 horas.\n",
        "El salario normal se considera las horas trabajadas menores o igual a la jornada normal\n",
        "Salario extra se considera las horas trabajadas mayores a la jornada normal y se pagan dobles las primeras 9 y triples a partir de la décima hora extra\n",
        "\n",
        "\n",
        "Nota: Desplegar todos los datos (Salario x hora, Horas Trabajadas, Salario normal, Salario extra y Salario Total)"
      ],
      "metadata": {
        "id": "t4Uj1b3xMc8S"
      }
    },
    {
      "cell_type": "code",
      "source": [
        "try:\n",
        "    horas_trabajadas = float(input(\"Ingrese las horas trabajadas a la semana: \"))\n",
        "    if horas_trabajadas == 0:\n",
        "        raise ValueError(\"COMO QUE NINGUNA HORA?\")\n",
        "    salario_por_hora = float(input(\"Ingrese el salario por hora: \"))\n",
        "    if salario_por_hora == 0:\n",
        "        raise ValueError(\"APOCO DE A GRATIS?\")\n",
        "except ValueError as e:\n",
        "    print(\"Error: \",e)\n",
        "except:\n",
        "    print(\"Eran numeros, no letras\")\n",
        "else:\n",
        "    jornada_normal = 40\n",
        "    tarifa_normal = salario_por_hora\n",
        "    tarifa_extra_doble = salario_por_hora * 2\n",
        "    tarifa_extra_triple = salario_por_hora * 3\n",
        "\n",
        "    if horas_trabajadas <= jornada_normal:\n",
        "        salario_normal = horas_trabajadas * tarifa_normal\n",
        "        horas_extra = 0\n",
        "    else:\n",
        "        horas_normales = jornada_normal\n",
        "        horas_extra = horas_trabajadas - jornada_normal\n",
        "        if horas_extra <= 9:\n",
        "            salario_normal = horas_normales * tarifa_normal\n",
        "            salario_extra = horas_extra * tarifa_extra_doble\n",
        "        else:\n",
        "            salario_normal = horas_normales * tarifa_normal\n",
        "            salario_extra = 9 * tarifa_extra_doble + (horas_extra - 9) * tarifa_extra_triple\n",
        "    salario_total = salario_normal + salario_extra\n",
        "    print(\"Salario Normal: $\", salario_normal)\n",
        "    print(\"Salario Extra: $\", salario_extra)\n",
        "    print(\"Salario Total: $\", salario_total)\n"
      ],
      "metadata": {
        "id": "r316aaSAOjpz",
        "colab": {
          "base_uri": "https://localhost:8080/"
        },
        "outputId": "cd5c7975-a116-4df8-ca7f-ba61c524eae1"
      },
      "execution_count": 55,
      "outputs": [
        {
          "output_type": "stream",
          "name": "stdout",
          "text": [
            "Ingrese las horas trabajadas a la semana: 0\n",
            "Error:  COMO QUE NINGUNA HORA?\n"
          ]
        }
      ]
    },
    {
      "cell_type": "markdown",
      "source": [
        "\n",
        "3.- Programa en Python que sirva para calcular el Total a pagar por consumo de agua, donde el dato de entrada son los M3 de agua consumidos, Tomar en cuenta que se cobra escalonada de la Siguiente manera:\n",
        "\n",
        "Rango1: 0 al 4 M3 $50 x facturación sin importar cuánto consumió en este rango\n",
        "\n",
        "Rango2: 5 a 15 M3 $8.00 x M3\n",
        "\n",
        "Rango3: 16 a 50 M3 $10.00 x M3\n",
        "\n",
        "Rango4: 51 M3 en adelante $11.00 x M3\n",
        "\n",
        "Nota: Desplegar SubTotal, Iva(16%), y Total a pagar."
      ],
      "metadata": {
        "id": "1RJVarN4OgHF"
      }
    },
    {
      "cell_type": "code",
      "source": [
        "try:\n",
        "    m3 = float(input(\"Cuantos metros cubicos de agua consumio?  \"))\n",
        "    if m3 == 0:\n",
        "        raise ValueError(\"Ingresa un numero mayor al 0\")\n",
        "except ValueError as e:\n",
        "    print(\"\",e)\n",
        "except TypeError:\n",
        "    print(\"Era ingresar numeros enteros \")\n",
        "\n",
        "else:\n",
        "    costo = 0\n",
        "    if m3 <= 4:\n",
        "        costo = 50\n",
        "    elif m3 <= 15:\n",
        "        costo = m3 * 8\n",
        "    elif m3 <= 50:\n",
        "        costo = m3 * 10\n",
        "    elif m3 >= 51:\n",
        "        costo = m3 * 11\n",
        "    subtotal = costo*100/116\n",
        "    iva = 16*subtotal/100\n",
        "    total = subtotal + iva\n",
        "    print(f\"El subtotal es de: {subtotal}\")\n",
        "    print(f\"El iva agregado es de: {iva}\")\n",
        "    print(f\"El total a pagar es de: {total}\")\n"
      ],
      "metadata": {
        "colab": {
          "base_uri": "https://localhost:8080/"
        },
        "id": "lEH6hPeGM5mO",
        "outputId": "0d398b01-b93d-4996-9348-0bf93a45cff7"
      },
      "execution_count": 56,
      "outputs": [
        {
          "output_type": "stream",
          "name": "stdout",
          "text": [
            "Cuantos metros cubicos de agua consumio?  10\n",
            "El subtotal es de: 68.96551724137932\n",
            "El iva agregado es de: 11.03448275862069\n",
            "El total a pagar es de: 80.0\n"
          ]
        }
      ]
    },
    {
      "cell_type": "markdown",
      "source": [
        "4- En la materia de Metodología de la programación se aplican 5 exámenes, calcular el promedio final de la materia donde la calificación menor de los exámenes se anula y el promedio se calcula en base a 4 exámenes.\n",
        "\n",
        "Desplegar el promedio final. y cual es la mas baja que se elimino."
      ],
      "metadata": {
        "id": "i5GVVsfJomJX"
      }
    },
    {
      "cell_type": "code",
      "source": [
        "\n",
        "try:\n",
        "    calif1=float(input(\"Cual es la calificacion numero 1: \"))\n",
        "    if calif1 < 0 or calif1 > 100:\n",
        "        raise ValueError(\"El número debe estar entre 0 y 100.\")\n",
        "\n",
        "    calif2=float(input(\"Cual es la calificacion numero 2: \"))\n",
        "    if calif2 < 0 or calif2 > 100:\n",
        "        raise ValueError(\"El número debe estar entre 0 y 100.\")\n",
        "\n",
        "    calif3=float(input(\"Cual es la calificacion numero 3: \"))\n",
        "    if calif3 < 0 or calif3 > 100:\n",
        "        raise ValueError(\"El número debe estar entre 0 y 100.\")\n",
        "\n",
        "    calif4=float(input(\"Cual es la calificacion numero 4: \"))\n",
        "    if calif4 < 0 or calif4 > 100:\n",
        "        raise ValueError(\"El número debe estar entre 0 y 100.\")\n",
        "\n",
        "    calif5=float(input(\"Cual es la calificacion numero 5: \"))\n",
        "    if calif5 < 0 or calif5 > 100:\n",
        "        raise ValueError(\"El número debe estar entre 0 y 100.\")\n",
        "\n",
        "except ValueError as e:\n",
        "    print(\"Error: \", e)\n",
        "except TypeError:\n",
        "    print(\"Error: tienen que ser numeros\")\n",
        "else:\n",
        "    menor = calif1\n",
        "    if menor > calif2:\n",
        "        menor = calif2\n",
        "    if menor > calif3:\n",
        "        menor = calif3\n",
        "    if menor > calif4:\n",
        "        menor = calif4\n",
        "    if menor > calif5:\n",
        "        menor = calif5\n",
        "    promedio = (calif1 + calif2 + calif3 + calif4 + calif5 - menor)/4\n",
        "    print(f\"El promedio final es: {promedio}\")\n",
        "    print(f\"La calificacion mas baja que se elimino es de {menor}\")\n",
        "\n",
        "\n",
        "\n"
      ],
      "metadata": {
        "id": "AEmoLWbvSb59",
        "colab": {
          "base_uri": "https://localhost:8080/"
        },
        "outputId": "dd2041b8-a033-4d88-8c62-f95fb69b7ca0"
      },
      "execution_count": 57,
      "outputs": [
        {
          "output_type": "stream",
          "name": "stdout",
          "text": [
            "Cual es la calificacion numero 1: 10000\n",
            "Error:  El número debe estar entre 0 y 100.\n"
          ]
        }
      ]
    },
    {
      "cell_type": "markdown",
      "source": [
        "5.- Programa en Python que sirva para el juego del CHINCHAMPU (Piedra, Papel, Tijera) para 1 jugador y la computadora"
      ],
      "metadata": {
        "id": "nYGCmTwvSnu6"
      }
    },
    {
      "cell_type": "code",
      "source": [
        "try:\n",
        "    j1=int(input(\"Seleccione: \\n1-Piedra \\n2-Papel \\n3-Tijera \"))\n",
        "    if j1 < 1 or j1 > 3:\n",
        "        raise ValueError(\"solo hay tres elecciones\")\n",
        "except ValueError as e:\n",
        "    print(\"Error: \",e)\n",
        "except:\n",
        "    print(\"tas mal\")\n",
        "\n",
        "else:\n",
        "    import random\n",
        "    bot=random.randint(1,3)\n",
        "    print (f\"Eleccion de la computadora {bot}\")\n",
        "    if j1 == 1 :\n",
        "        if bot == 1 :\n",
        "            print (\"Empate\")\n",
        "        elif bot == 2 :\n",
        "            print (\"Gana la computadora\")\n",
        "        else :\n",
        "            print (\"Gana el jugador 1\")\n",
        "    elif j1 == 2 :\n",
        "        if bot == 1 :\n",
        "            print (\"Gana el jugador 1\")\n",
        "        elif bot == 2 :\n",
        "            print (\"Empate\")\n",
        "        else :\n",
        "            print (\"Gana la computadora\")\n",
        "    elif j1 == 3 :\n",
        "        if bot == 1 :\n",
        "            print (\"Gana la computadora\")\n",
        "        elif bot == 2 :\n",
        "            print (\"Gana el jugador 1\")\n",
        "        else :\n",
        "            print (\"Empate\")\n",
        "    else :\n",
        "        print (\"Error, ingrese un numero del 1 al 3\")\n"
      ],
      "metadata": {
        "id": "7X9TPhiQSpMU",
        "colab": {
          "base_uri": "https://localhost:8080/"
        },
        "outputId": "80f1d42b-3aa5-41af-9d78-10f9adf818c2"
      },
      "execution_count": 58,
      "outputs": [
        {
          "output_type": "stream",
          "name": "stdout",
          "text": [
            "Seleccione: \n",
            "1-Piedra \n",
            "2-Papel \n",
            "3-Tijera 4\n",
            "Error:  solo hay tres elecciones\n"
          ]
        }
      ]
    },
    {
      "cell_type": "markdown",
      "source": [
        "6.- Programa en Python que lea 4 números enteros desplegar cuales el menor, cual es mayor"
      ],
      "metadata": {
        "id": "U4C0PiNjSfae"
      }
    },
    {
      "cell_type": "code",
      "source": [
        "try:\n",
        "    n1 = int(input(\"Ingrese el primer numero: \"))\n",
        "    n2 = int(input(\"Ingrese el segundo  numero: \"))\n",
        "    n3 = int(input(\"Ingrese el tercere numero: \"))\n",
        "    n4 = int(input(\"Ingrese el cuarto numero: \"))\n",
        "except ValueError:\n",
        "    print(\"Tenian QUE SER NUMEROS\")\n",
        "else:\n",
        "    menor = n1\n",
        "    if menor > n2:\n",
        "        menor = n2\n",
        "    if menor > n3:\n",
        "        menor = n3\n",
        "    if menor > n4:\n",
        "        menor = n4\n",
        "    print(f\"El menor es: {menor}\")\n",
        "\n",
        "    mayor = n4\n",
        "    if mayor < n1:\n",
        "        mayor = n1\n",
        "    if mayor < n2:\n",
        "        mayor = n2\n",
        "    if mayor < n3:\n",
        "        mayor = n3\n",
        "    print(f\"El mayor es: {mayor}\")\n",
        ""
      ],
      "metadata": {
        "colab": {
          "base_uri": "https://localhost:8080/"
        },
        "id": "cuFmP2NNpD-V",
        "outputId": "45de4abc-8b14-416b-c73c-825bf70069b9"
      },
      "execution_count": 59,
      "outputs": [
        {
          "output_type": "stream",
          "name": "stdout",
          "text": [
            "Ingrese el primer numero: 9\n",
            "Ingrese el segundo  numero: 3\n",
            "Ingrese el tercere numero: 8\n",
            "Ingrese el cuarto numero: 16\n",
            "El menor es: 3\n",
            "El mayor es: 16\n"
          ]
        }
      ]
    },
    {
      "cell_type": "markdown",
      "source": [
        "\n",
        "7.- Programa en Python que sirva para calcular el área de un triangulo, los datos de entrada deben ser forzosamente de tipo real"
      ],
      "metadata": {
        "id": "0LMH85zVSTdt"
      }
    },
    {
      "cell_type": "code",
      "source": [
        "base = float(input(\"ingrese la base: \"))\n",
        "altura = float(input(\"ingrese la altura: \"))\n",
        "\n",
        "try:\n",
        "    flotante =float(base)\n",
        "    flotante =float(altura)\n",
        "    print(\"si es flotante\")\n",
        "except ValueError:\n",
        "    print(\"INgresa numeros\")\n",
        "except:\n",
        "    print(\"No es flotante\")\n",
        "else:\n",
        "    area = (base * altura)/2\n",
        "    print(f\"El area es de {area}\")"
      ],
      "metadata": {
        "id": "l3MZ7dZ-Sd59",
        "colab": {
          "base_uri": "https://localhost:8080/"
        },
        "outputId": "950c3836-44d2-4138-a2c5-6c9299d98f58"
      },
      "execution_count": 50,
      "outputs": [
        {
          "output_type": "stream",
          "name": "stdout",
          "text": [
            "ingrese la base: 1\n",
            "ingrese la altura: 2\n",
            "si es flotante\n",
            "El area es de 1.0\n"
          ]
        }
      ]
    },
    {
      "cell_type": "markdown",
      "source": [
        "8.- Programa en Python que sirva para calcular el área de un circulo"
      ],
      "metadata": {
        "id": "VFKZgCiCt_AB"
      }
    },
    {
      "cell_type": "code",
      "source": [
        "import math\n",
        "\n",
        "\n",
        "try:\n",
        "    radio = float(input(\"ingrese el radio: \"))\n",
        "    if radio <= 0:\n",
        "        raise ValueError(\"NO hay radio menores iguales que 0\")\n",
        "except ValueError as e:\n",
        "    print(\"ERROR: \",e)\n",
        "else:\n",
        "    area = (math.pi * (radio**2))\n",
        "    print(f\"El area es de {area}\")"
      ],
      "metadata": {
        "colab": {
          "base_uri": "https://localhost:8080/"
        },
        "id": "ArWMQt3Rt_9t",
        "outputId": "798b84e7-ff57-4a98-be37-0fe07b48088c"
      },
      "execution_count": 54,
      "outputs": [
        {
          "output_type": "stream",
          "name": "stdout",
          "text": [
            "ingrese el radio: 9\n",
            "El area es de 254.46900494077323\n"
          ]
        }
      ]
    }
  ]
}