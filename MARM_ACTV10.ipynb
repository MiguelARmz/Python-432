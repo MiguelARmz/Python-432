{
  "cells": [
    {
      "cell_type": "markdown",
      "metadata": {
        "id": "view-in-github",
        "colab_type": "text"
      },
      "source": [
        "<a href=\"https://colab.research.google.com/github/MiguelARmz/Python-432/blob/main/MARM_ACTV10.ipynb\" target=\"_parent\"><img src=\"https://colab.research.google.com/assets/colab-badge.svg\" alt=\"Open In Colab\"/></a>"
      ]
    },
    {
      "cell_type": "markdown",
      "metadata": {
        "id": "hSWIKPWlVbF1"
      },
      "source": [
        "#Actividad 10\n",
        "\n",
        "Nombre: Miguel Angel Ramirez Monjaraz     Matricula: 372205\n",
        "\n",
        "Grupo: 432-computacion\n",
        "\n",
        "Fecha:29/10/2023"
      ]
    },
    {
      "cell_type": "markdown",
      "metadata": {
        "id": "XsFbZl6qVkfq"
      },
      "source": [
        " REALIZA UN PROGRAMA QUE UTILICE UNA LISTA DE DICCIONARIOS\n",
        "\n",
        "\n",
        "\n",
        "MENU\n",
        "\n",
        "1.- Agregar (automatico)\n",
        "\n",
        "2.- Agregar (manual)\n",
        "\n",
        "3.- Imprimir lista\n",
        "\n",
        " a) b) c)\n",
        "\n",
        "4.- Buscar {ID}\n",
        "\n",
        "5.- Ordenar\n",
        "\n",
        "6.- Eliminar {ID}\n",
        "\n",
        "7.- Borrar Toda la lista {ID}\n",
        "\n",
        "0.- SALIR\n",
        "\n",
        "\n",
        "\n",
        "NOTA: Los datos del diccionario son los Datos básicos de un trabajador de una fabrica.\n",
        "\n"
      ]
    },
    {
      "cell_type": "code",
      "execution_count": null,
      "metadata": {
        "id": "2c1iIc5G3ElY"
      },
      "outputs": [],
      "source": [
        "from IPython.display import clear_output\n",
        "import re\n",
        "import pandas as pd\n",
        "import random\n",
        "import time"
      ]
    },
    {
      "cell_type": "code",
      "execution_count": 76,
      "metadata": {
        "id": "NbihCaRHTEqH"
      },
      "outputs": [],
      "source": [
        "def vali_num(ri,rf,msg):\n",
        "    salida = 1\n",
        "    while(salida == 1):\n",
        "            try:\n",
        "                n = input(f\"{msg}\")\n",
        "                n_entero = int(n)\n",
        "                if int(n):\n",
        "                    if(n_entero >= ri and n_entero <= rf):\n",
        "                        salida = 0\n",
        "                        return n_entero\n",
        "                    else:\n",
        "                        salida = 1\n",
        "            except ValueError:\n",
        "                print(\"No es un numero\")\n",
        "                print(\"Intenta de nuevo\")"
      ]
    },
    {
      "cell_type": "code",
      "source": [
        "def vali_cadena(msg):\n",
        "\n",
        "\n",
        "    salida = 1\n",
        "    while(salida == 1):\n",
        "            try:\n",
        "                patron = \"^[a-zA-ZñÑ\\s]+$\"\n",
        "                cadena = input(msg)\n",
        "                if re.match(patron, cadena):\n",
        "                    return cadena\n",
        "                    salida = 0\n",
        "                else:\n",
        "                    salida = 1\n",
        "            except ValueError:\n",
        "                print(\"No es un numero\")\n",
        "                print(\"Intenta de nuevo\")"
      ],
      "metadata": {
        "id": "ySyE5C_3qzJJ"
      },
      "execution_count": 77,
      "outputs": []
    },
    {
      "cell_type": "code",
      "execution_count": null,
      "metadata": {
        "id": "zpa3g3xxTky0"
      },
      "outputs": [],
      "source": [
        "def esta_ordenada(lista,clave):\n",
        "    for i in range(len(lista) // 2):\n",
        "        if lista[i][clave] > lista[len(lista) - 1 - i][clave]:\n",
        "            return False\n",
        "    return True"
      ]
    },
    {
      "cell_type": "code",
      "source": [
        "def agregar_empleado(lista, empleado):\n",
        "    if not any(e[\"ID\"] == empleado[\"ID\"] for e in lista):\n",
        "        lista.append(empleado)\n",
        "    else:\n",
        "        print(\"Ya se encuentra un empleado con ese ID\")"
      ],
      "metadata": {
        "id": "oBOXzM78HRkc"
      },
      "execution_count": null,
      "outputs": []
    },
    {
      "cell_type": "code",
      "source": [
        "def accion7(lista_registros):\n",
        "    lista_registros = lista_registros.clear()\n",
        "    print(\"Se a vaciado el registro de esclavos exitosamente!\")"
      ],
      "metadata": {
        "id": "nUi2RjuB5lta"
      },
      "execution_count": null,
      "outputs": []
    },
    {
      "cell_type": "code",
      "execution_count": null,
      "metadata": {
        "id": "aD9Lp7sVfWcs"
      },
      "outputs": [],
      "source": [
        "def accion6(lista_registros):\n",
        "    if (len(lista_registros) > 0):\n",
        "        remover = accion4(registros)\n",
        "        registros.remove(remover)\n",
        "    else:\n",
        "        print(\"El registro no contiene empleados\")\n"
      ]
    },
    {
      "cell_type": "code",
      "execution_count": null,
      "metadata": {
        "id": "_lONgr1lStge"
      },
      "outputs": [],
      "source": [
        "def accion5(registros):\n",
        "    clave = 'ID'\n",
        "    ordenada = esta_ordenada(registros,clave)\n",
        "    if not ordenada:\n",
        "        registros = sorted(registros, key=lambda x: x['ID'])\n",
        "        print(\"La lista no estaba ordenada, se ha ordenado por 'ID'.\")\n",
        "        return registros\n",
        "    else:\n",
        "        print(\"La lista estaba ordenada por 'ID'.\")\n",
        "        return 0"
      ]
    },
    {
      "cell_type": "code",
      "execution_count": null,
      "metadata": {
        "id": "g-ip5O9CAft_"
      },
      "outputs": [],
      "source": [
        "def accion4(registro):\n",
        "    ubicacion = 0\n",
        "    salir = 0\n",
        "    print(\"Te recordamos que el NO° va de 10000 a 19999\")\n",
        "    id = vali_num(10000,19999,\"Ingresa el numero de trabajador: \")\n",
        "    for busqueda in registro:\n",
        "        if id in busqueda.values():\n",
        "            print(f\"Se encontró el trabajador con ID'{id}'\")\n",
        "            ubicacion = busqueda\n",
        "            salir = 1\n",
        "        if salir == 1:\n",
        "            return ubicacion\n",
        "            break\n",
        "    else:\n",
        "        print(f\"No encontró el trabajador con ID '{id}'\")\n"
      ]
    },
    {
      "cell_type": "code",
      "execution_count": null,
      "metadata": {
        "id": "JimbZa-zbMAH"
      },
      "outputs": [],
      "source": [
        "def accion3(dicc_list):\n",
        "    if len(dicc_list) >= 1:\n",
        "        salida=pd.DataFrame(dicc_list)\n",
        "        print(salida.to_string(index=False))\n",
        "    else:\n",
        "        print(\"Actualmente el registro se encuentra vacio, favor de ingresar datos de esclavos\")"
      ]
    },
    {
      "cell_type": "code",
      "execution_count": null,
      "metadata": {
        "id": "HWwAEcESwVqb"
      },
      "outputs": [],
      "source": [
        "def accion2():\n",
        "    print(\"Te recordamos que el NO° va de 10000 a 19999\")\n",
        "    id = vali_num(10000,19999,\"Ingresa el numero de trabajador: \")\n",
        "    nombre = vali_cadena(\"Ingresa el nombre: \")\n",
        "    apellidop = vali_cadena(\"Ingresa el apellido paterno: \")\n",
        "    apellidom = vali_cadena(\"Ingresa el apellido materno: \")\n",
        "    edad = vali_num(18,80,\"Ingrese su edad: \")\n",
        "    puesto = vali_cadena(\"Ingresa el puesto al que te dedicas: \")\n",
        "    regis = {'ID':id,'NOMBRE':nombre, 'PATERNO':apellidop, 'MATERNO': apellidom, 'PUESTO': puesto, 'EDAD':edad}\n",
        "    return regis"
      ]
    },
    {
      "cell_type": "code",
      "execution_count": null,
      "metadata": {
        "id": "_UEwXec1tnF0"
      },
      "outputs": [],
      "source": [
        "def accion1():\n",
        "    # 0 - Hombre\n",
        "    # 1 - Mujer\n",
        "    id = random.randint(10000,19999)\n",
        "    sexo = random.randint(0, 100)\n",
        "    nombreHom = [\n",
        "    \"Pepe\", \"Juan\", \"Luis\", \"Enrique\", \"Tony\", \"Omar\", \"Danie\", \"Goku\", \"Aron\", \"Wicho\",\n",
        "    \"Pedro\", \"Liam\", \"Gael\", \"Marc\", \"Carlos\", \"Juan\", \"Ángel\", \"Dylan\", \"Nicolás\",\n",
        "    \"José\", \"Sergio\", \"Gabriel\", \"Luca\", \"Jorge\", \"Darío\", \"Íker\", \"Samuel\", \"Eric\", \"Adam\",\n",
        "    \"Fernando\", \"Andrés\", \"Antonio\", \"Miguel\", \"Rafael\", \"Alberto\", \"Roberto\", \"Mauricio\",\n",
        "    \"Alejandro\", \"Mateo\", \"Ricardo\", \"Rodrigo\", \"Daniel\", \"Héctor\", \"Manuel\", \"Eduardo\",\n",
        "    \"Raúl\", \"Arturo\", \"Javier\", \"Hugo\", \"Diego\", \"Esteban\", \"Felipe\", \"Martín\", \"Francisco\",\n",
        "    \"Julio\", \"Pablo\", \"Emilio\", \"Federico\", \"Marco\", \"Guillermo\", \"Sebastián\", \"Ignacio\",\n",
        "    \"Rodolfo\", \"Gustavo\", \"Carlos\", \"Tomás\", \"Víctor\", \"Josué\", \"Simón\", \"Enzo\", \"Joaquín\",\n",
        "    \"Renato\", \"César\", \"Luciano\", \"Adrián\", \"Ismael\", \"Ezequiel\", \"Gonzalo\", \"Rogelio\"]\n",
        "    nombreMuj = [\n",
        "    \"María\", \"Carmen\", \"Laura\", \"Josefa\", \"Isabel\", \"Ana\", \"Marta\", \"Cristina\", \"Lucia\", \"Francisca\",\n",
        "    \"Antonia\", \"Dolores\", \"Sara\", \"Paula\", \"Elena\", \"Raquel\", \"Manuela\", \"Pilar\", \"Mercedes\", \"Julia\",\n",
        "    \"Beatriz\", \"Rosa\", \"Teresa\", \"Victoria\", \"Patricia\", \"Daniela\", \"Natalia\", \"Camila\", \"Claudia\", \"Valentina\",\n",
        "    \"Mariana\", \"Carolina\", \"Adela\", \"Rosario\", \"Consuelo\", \"Adriana\", \"Ximena\", \"Rocio\", \"Lorena\", \"Guadalupe\",\n",
        "    \"Alicia\", \"Gloria\", \"Irene\", \"Eva\", \"Nora\", \"Angela\", \"Marina\", \"Cecilia\", \"Estela\", \"Gabriela\",\n",
        "    \"Rafaela\", \"Susana\", \"Paulina\", \"Renata\", \"Josefina\", \"Inés\", \"Sofía\", \"Marcela\", \"Fernanda\", \"Olga\",\n",
        "    \"Rita\", \"Regina\", \"Violeta\", \"Aurora\", \"Emilia\", \"Margarita\", \"Lourdes\", \"Roxana\", \"Irma\", \"Beatriz\",\n",
        "    \"Graciela\", \"Leonora\", \"Ángela\", \"Clarisa\", \"Elvira\", \"Hortensia\", \"Leonor\", \"Isidora\", \"Roberta\", \"Ofelia\"]\n",
        "    apellido = [\n",
        "    \"Hernández\", \"García\", \"Martínez\", \"López\", \"González\", \"Pérez\", \"Rodríguez\", \"Sánchez\", \"Ramírez\", \"Cruz\",\n",
        "    \"Gómez\", \"Flores\", \"Morales\", \"Vázquez\", \"Jiménez\", \"Reyes\", \"Díaz\", \"Torres\", \"Gutiérrez\", \"Ruiz\",\n",
        "    \"Fernández\", \"Luna\", \"Rojas\", \"Ortega\", \"Castillo\", \"Soto\", \"Cabrera\", \"Gonzales\", \"Mendoza\", \"Silva\",\n",
        "    \"Vega\", \"Valdez\", \"Pacheco\", \"Delgado\", \"Nuñez\", \"Herrera\", \"Medina\", \"Ríos\", \"Salazar\", \"Guerrero\",\n",
        "    \"Calderón\", \"Arroyo\", \"Paredes\", \"Molina\", \"Bautista\", \"Contreras\", \"Peralta\", \"Álvarez\", \"Gallegos\", \"Zamora\",\n",
        "    \"Cisneros\", \"Navarro\", \"Castañeda\", \"Escobar\", \"Parra\", \"Solís\", \"Tovar\", \"Gallardo\", \"Santos\", \"Villanueva\",\n",
        "    \"Aguirre\", \"Bravo\", \"Bustamante\", \"Chávez\", \"Figueroa\", \"Miranda\", \"Olivares\", \"Peña\", \"Quintero\", \"Santana\",\n",
        "    \"Valencia\", \"Zavala\", \"Andrade\", \"Baez\", \"Corona\", \"Espinoza\", \"Guzmán\", \"Lara\", \"Montoya\", \"Vidal\"]\n",
        "    puesto = [\n",
        "        \"Instalador de máquinas\",\"Representante de servicio al cliente\",\"Técnico de servicio de campo\",\"Asociado de almacén\",\n",
        "        \"Operación de tratamiento/ensamblaje\",\"Coordinador de producción\",\"Técnico soldador\",\"Gerente de operaciones\",\n",
        "        \"Técnico de seguridad\",\"Inspector de control de calidad\"]\n",
        "    puesto = random.choice(puesto)\n",
        "    apellidop = random.choice(apellido)\n",
        "    apellidom = random.choice(apellido)\n",
        "    edad = random.randint(13, 90)\n",
        "\n",
        "    if sexo % 2 == 0:\n",
        "        nombre = random.choice(nombreHom)\n",
        "    else:\n",
        "        nombre = random.choice(nombreMuj)\n",
        "    regis = {'ID':id,'NOMBRE':nombre, 'PATERNO':apellidop, 'MATERNO': apellidom, 'PUESTO': puesto, 'EDAD':edad}\n",
        "    return regis"
      ]
    },
    {
      "cell_type": "code",
      "execution_count": 81,
      "metadata": {
        "colab": {
          "base_uri": "https://localhost:8080/"
        },
        "id": "KZxuyoU1mdYG",
        "outputId": "9de0a8ac-8d44-4fb0-bad5-4fa66e0f2d01"
      },
      "outputs": [
        {
          "name": "stdout",
          "output_type": "stream",
          "text": [
            "MENU\n",
            "1. - Agregar automaticamente\n",
            "2. - Agregar manualmente\n",
            "3. - Imprimir lista\n",
            "4. - Buscar empleado \n",
            "5. - Ordenar\n",
            "6. - Eliminar empleado\n",
            "7. - Borrar registro\n",
            "0. - Salir\n",
            "Que desea realizar: 0\n"
          ]
        }
      ],
      "source": [
        "registros = []\n",
        "while(True):\n",
        "    print(\"MENU\")\n",
        "    print(\"1. - Agregar automaticamente\")\n",
        "    print(\"2. - Agregar manualmente\")\n",
        "    print(\"3. - Imprimir lista\")\n",
        "    print(\"4. - Buscar empleado \")\n",
        "    print(\"5. - Ordenar\")\n",
        "    print(\"6. - Eliminar empleado\")\n",
        "    print(\"7. - Borrar registro\")\n",
        "    print(\"0. - Salir\")\n",
        "    op = int(input(\"Que desea realizar: \"))\n",
        "    if(op == 0):\n",
        "        break\n",
        "    elif(op == 1):\n",
        "        for i in range(10):\n",
        "            registro = accion1()\n",
        "            agregar_empleado(registros,registro)\n",
        "        print(\"Se a añadido 10 empleados automaticamente!\")\n",
        "    elif(op == 2):\n",
        "        registro = accion2()\n",
        "        agregar_empleado(registros,registro)\n",
        "    elif(op == 3):\n",
        "        accion3(registros)\n",
        "    elif(op == 4):\n",
        "        print(accion4(registros))\n",
        "    elif(op == 5):\n",
        "        aux = accion5(registros)\n",
        "        if aux != 0:\n",
        "            registros = aux\n",
        "    elif(op == 6):\n",
        "        print(\"1 - Si\",\"2 - No\")\n",
        "        elimi = vali_num(1,2,\"Estas seguro de eliminar al esclavo?\")\n",
        "        if elimi == 1:\n",
        "            accion6(registros)\n",
        "        else:\n",
        "            print(\"Casi la riegas, te he salvado:)\")\n",
        "    elif(op == 7):\n",
        "        print(\"1 - Si\",\"2 - No\")\n",
        "        elimi = vali_num(1,2,\"Estas seguro de eliminar todoooooo?\")\n",
        "        if elimi == 1:\n",
        "            registros = accion7(registros)\n",
        "            registros = []\n",
        "        else:\n",
        "            print(\"Casi la riegas, te he salvado:)\")\n",
        "    input(\"Presione ENTER \")\n",
        "    clear_output()\n"
      ]
    }
  ],
  "metadata": {
    "colab": {
      "provenance": [],
      "authorship_tag": "ABX9TyMuhvuneGHRND/h/eHuAqRR",
      "include_colab_link": true
    },
    "kernelspec": {
      "display_name": "Python 3",
      "name": "python3"
    },
    "language_info": {
      "name": "python"
    }
  },
  "nbformat": 4,
  "nbformat_minor": 0
}