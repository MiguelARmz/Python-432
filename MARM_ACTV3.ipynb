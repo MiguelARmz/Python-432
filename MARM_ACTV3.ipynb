{
  "nbformat": 4,
  "nbformat_minor": 0,
  "metadata": {
    "colab": {
      "provenance": [],
      "authorship_tag": "ABX9TyPYsPHerNBZ7h7wwwzsitDv",
      "include_colab_link": true
    },
    "kernelspec": {
      "name": "python3",
      "display_name": "Python 3"
    },
    "language_info": {
      "name": "python"
    }
  },
  "cells": [
    {
      "cell_type": "markdown",
      "metadata": {
        "id": "view-in-github",
        "colab_type": "text"
      },
      "source": [
        "<a href=\"https://colab.research.google.com/github/MiguelARmz/Python-432/blob/main/MARM_ACT3.ipynb\" target=\"_parent\"><img src=\"https://colab.research.google.com/assets/colab-badge.svg\" alt=\"Open In Colab\"/></a>"
      ]
    },
    {
      "cell_type": "markdown",
      "source": [],
      "metadata": {
        "id": "bzwa9Fn4kbJs"
      }
    },
    {
      "cell_type": "markdown",
      "source": [
        "#Actividad 3\n",
        "\n",
        "Nombre: Miguel Angel Ramirez Monjaraz\n",
        "\n",
        "Grupo: 432-computacion\n",
        "\n",
        "Fecha:27/08/2023"
      ],
      "metadata": {
        "id": "3fpuDSZGagml"
      }
    },
    {
      "cell_type": "markdown",
      "source": [],
      "metadata": {
        "id": "GjAInW6UfvYF"
      }
    },
    {
      "cell_type": "code",
      "source": [
        "materias = 3\n",
        "i=1\n",
        "suma=0\n",
        "while(i<=materias):\n",
        "  print(\"Cual es la calificacion numero \",i)\n",
        "  calif=float(input())\n",
        "  suma=suma+calif\n",
        "  i+=1\n",
        "promedio=suma/materias\n",
        "\n",
        "if promedio < 30:\n",
        "    print(f\"A REPETIR \")\n",
        "elif promedio < 60:\n",
        "    print(f\"TE VAS A EXTRA \")\n",
        "elif promedio < 70:\n",
        "    print(f\"ERES SUFICIENTE \")\n",
        "elif promedio < 80:\n",
        "    print(f\"REGULAR\")\n",
        "elif promedio < 90:\n",
        "    print(f\"BIEN \")\n",
        "elif promedio < 98:\n",
        "    print(f\"MUY BIEN \")\n",
        "elif promedio <= 100:\n",
        "    print(f\"EXCELENTE \")\n",
        "else:\n",
        "    print(f\"ERROR \")\n",
        "\n",
        "\n",
        "\n",
        "\n",
        "\n"
      ],
      "metadata": {
        "colab": {
          "base_uri": "https://localhost:8080/"
        },
        "id": "sWk7kqgXEtyh",
        "outputId": "ffec66ea-15e4-4945-8ade-156093e563db"
      },
      "execution_count": null,
      "outputs": [
        {
          "output_type": "stream",
          "name": "stdout",
          "text": [
            "Cual es la calificacion numero  1\n",
            "90\n",
            "Cual es la calificacion numero  2\n",
            "98\n",
            "Cual es la calificacion numero  3\n",
            "93\n",
            "MUY BIEN \n"
          ]
        }
      ]
    },
    {
      "cell_type": "markdown",
      "source": [
        "2.- Algoritmo que sirva para calcular el salario semanal de un trabajador donde se obtiene como dato de entrada las horas semanales trabajadas, el salario por hora.\n",
        "\n",
        "El programa deberá calcular el salario normal, salario extra y salario total, considerando lo siguiente:\n",
        "\n",
        "Jornada Normal de 40 horas.\n",
        "El salario normal se considera las horas trabajadas menores o igual a la jornada normal\n",
        "Salario extra se considera las horas trabajadas mayores a la jornada normal y se pagan dobles las primeras 9 y triples a partir de la décima hora extra\n",
        "\n",
        "\n",
        "Nota: Desplegar todos los datos (Salario x hora, Horas Trabajadas, Salario normal, Salario extra y Salario Total)\n",
        "\n"
      ],
      "metadata": {
        "id": "DSEZJlx6IcN2"
      }
    },
    {
      "cell_type": "code",
      "source": [
        "horas_trabajadas = float(input(\"Ingrese las horas trabajadas a la semana: \"))\n",
        "salario_por_hora = float(input(\"Ingrese el salario por hora: \"))\n",
        "\n",
        "jornada_normal = 40\n",
        "tarifa_normal = salario_por_hora\n",
        "tarifa_extra_doble = salario_por_hora * 2\n",
        "tarifa_extra_triple = salario_por_hora * 3\n",
        "\n",
        "if horas_trabajadas <= jornada_normal:\n",
        "    salario_normal = horas_trabajadas * tarifa_normal\n",
        "    horas_extra = 0\n",
        "else:\n",
        "    horas_normales = jornada_normal\n",
        "    horas_extra = horas_trabajadas - jornada_normal\n",
        "    if horas_extra <= 9:\n",
        "        salario_normal = horas_normales * tarifa_normal\n",
        "        salario_extra = horas_extra * tarifa_extra_doble\n",
        "    else:\n",
        "        salario_normal = horas_normales * tarifa_normal\n",
        "        salario_extra = 9 * tarifa_extra_doble + (horas_extra - 9) * tarifa_extra_triple\n",
        "\n",
        "\n",
        "salario_total = salario_normal + salario_extra\n",
        "\n",
        "print(\"Salario Normal: $\", salario_normal)\n",
        "print(\"Salario Extra: $\", salario_extra)\n",
        "print(\"Salario Total: $\", salario_total)\n",
        "\n",
        "\n",
        "\n",
        "\n"
      ],
      "metadata": {
        "id": "YEqnDfpHIiXx",
        "colab": {
          "base_uri": "https://localhost:8080/"
        },
        "outputId": "4b5ae5fd-63eb-461b-9a1d-084fced2289a"
      },
      "execution_count": 5,
      "outputs": [
        {
          "output_type": "stream",
          "name": "stdout",
          "text": [
            "Ingrese las horas trabajadas a la semana: 44\n",
            "Ingrese el salario por hora: 45\n",
            "Salario Normal: $ 1800.0\n",
            "Salario Extra: $ 360.0\n",
            "Salario Total: $ 2160.0\n"
          ]
        }
      ]
    },
    {
      "cell_type": "markdown",
      "source": [
        "3.- Algoritmo que sirva para desplegar el Total de una llamada telefónica donde se pide como datos de entrada los minutos y el tipo de llamada, se cobra de la siguiente manera:\n",
        "\n",
        "1.- Llamada Local $3.00 sin límite de tiempo\n",
        "\n",
        "2.- Llamada Nacional $7.00 por los 3 primeros minutos y $2.00 minuto adicional\n",
        "\n",
        "3.- Llamada Internacional $9.00 por los 2 primeros minutos y $4.00 minuto adicional\n",
        "\n",
        " Desplegar, Subtotal,Iva (16%) y Total."
      ],
      "metadata": {
        "id": "dsSbmeGdN9G7"
      }
    },
    {
      "cell_type": "code",
      "source": [
        "\n",
        "print(\"Tipos de llamada\" )\n",
        "print(\"Local - presiona 1\" )\n",
        "print(\"Nacional - presiona 2\" )\n",
        "print(\"Internacional - presiona 3\" )\n",
        "llamada = float(input(\"Que tipo de llamada era? \"))\n",
        "minutos = float(input(\"Cuantas minutos hablaste \"))\n",
        "\n",
        "if llamada == 1:\n",
        "    print(f\"Tu cobraremos 3 pesitos\")\n",
        "    subtotal = 3*100/116\n",
        "    iva = 16*subtotal/100\n",
        "    total = subtotal + iva\n",
        "    print(f\"El subtotal es de: {subtotal}\")\n",
        "    print(f\"El iva agregado es de: {iva}\")\n",
        "    print(f\"El total es de: {total}\")\n",
        "elif llamada == 2:\n",
        "    if minutos <= 3:\n",
        "        T = 7*minutos\n",
        "        print(f\"Te cobraremos {T}\")\n",
        "        subtotal = T*100/116\n",
        "        iva = 16*subtotal/100\n",
        "        total = subtotal + iva\n",
        "        print(f\"El subtotal es de: {subtotal}\")\n",
        "        print(f\"El iva agregado es de: {iva}\")\n",
        "        print(f\"El total es de: {total}\")\n",
        "    else:\n",
        "        minutospasa = minutos - 3\n",
        "        T = 21 + (2*minutospasa)\n",
        "        print(f\"Te cobraremos {T}\")\n",
        "        subtotal = T*100/116\n",
        "        iva = 16*subtotal/100\n",
        "        total = subtotal + iva\n",
        "        print(f\"El subtotal es de: {subtotal}\")\n",
        "        print(f\"El iva agregado es de: {iva}\")\n",
        "        print(f\"El total es de: {total}\")\n",
        "elif llamada == 3:\n",
        "    if minutos <= 2:\n",
        "        T = 9*minutos\n",
        "        print(f\"Te cobraremos {T}\")\n",
        "        subtotal = T*100/116\n",
        "        iva = 16*subtotal/100\n",
        "        total = subtotal + iva\n",
        "        print(f\"El subtotal es de: {subtotal}\")\n",
        "        print(f\"El iva agregado es de: {iva}\")\n",
        "        print(f\"El total es de: {total}\")\n",
        "    else:\n",
        "        minutospasa = minutos - 3\n",
        "        T = 21 + (2*minutospasa)\n",
        "        print(f\"Te cobraremos {T}\")\n",
        "        subtotal = T*100/116\n",
        "        iva = 16*subtotal/100\n",
        "        total = subtotal + iva\n",
        "        print(f\"El subtotal es de: {subtotal}\")\n",
        "        print(f\"El iva agregado es de: {iva}\")\n",
        "        print(f\"El total es de: {total}\")\n",
        "\n",
        "\n",
        "\n",
        "\n",
        "\n"
      ],
      "metadata": {
        "id": "aC5_L-RqOLfU",
        "colab": {
          "base_uri": "https://localhost:8080/"
        },
        "outputId": "93d1d088-a37f-43e8-afdb-41d3dca0d2bc"
      },
      "execution_count": 26,
      "outputs": [
        {
          "output_type": "stream",
          "name": "stdout",
          "text": [
            "Tipos de llamada\n",
            "Local - presiona 1\n",
            "Nacional - presiona 2\n",
            "Internacional - presiona 3\n",
            "Que tipo de llamada era? 2\n",
            "Cuantas minutos hablaste 10\n",
            "Te cobraremos 35.0\n",
            "El subtotal es de: 30.17241379310345\n",
            "El iva agregado es de: 4.827586206896552\n",
            "El total es de: 35.0\n"
          ]
        }
      ]
    },
    {
      "cell_type": "markdown",
      "source": [
        "4.- Codigo que sirva para calcular el Total a pagar por consumo de agua, donde el dato de entrada son los M3 de agua consumidos, Tomar en cuenta que se cobra escalonada de la Siguiente manera:\n",
        "\n",
        "Rango1: 0 al 4 M3 $50 x facturación sin importar cuánto consumió en este rango\n",
        "\n",
        "Rango2: 5 a 15 M3 $8.00 x M3\n",
        "\n",
        "Rango3: 16 a 50 M3 $10.00 x M3\n",
        "\n",
        "Rango4: 51 M3 en adelante $11.00 x M3\n",
        "\n",
        "Nota: Desplegar SubTotal, Iva(16%), y Total a pagar."
      ],
      "metadata": {
        "id": "vvPKNORBSaWp"
      }
    },
    {
      "cell_type": "code",
      "source": [
        "\n",
        "m3 = float(input(\"Cuantos metros cubicos de agua consumio?  \"))\n",
        "\n",
        "costo = 0\n",
        "if m3 <= 4:\n",
        "    costo = 50\n",
        "elif m3 <= 15:\n",
        "    costo = m3 * 8\n",
        "elif m3 <= 50:\n",
        "    costo = m3 * 10\n",
        "elif m3 >= 51:\n",
        "    costo = m3 * 11\n",
        "\n",
        "subtotal = costo*100/116\n",
        "iva = 16*subtotal/100\n",
        "total = subtotal + iva\n",
        "print(f\"El subtotal es de: {subtotal}\")\n",
        "print(f\"El iva agregado es de: {iva}\")\n",
        "print(f\"El total a pagar es de: {total}\")\n",
        "\n",
        ""
      ],
      "metadata": {
        "colab": {
          "base_uri": "https://localhost:8080/"
        },
        "id": "pL5eornkSgX2",
        "outputId": "9371828d-1907-46f2-9403-8c31b37536fb"
      },
      "execution_count": 14,
      "outputs": [
        {
          "output_type": "stream",
          "name": "stdout",
          "text": [
            "Cuantos metros cubicos de agua consumio?  13\n",
            "El subtotal es de: 89.65517241379311\n",
            "El iva agregado es de: 14.344827586206897\n",
            "El total a pagar es de: 104.0\n"
          ]
        }
      ]
    },
    {
      "cell_type": "markdown",
      "source": [
        "5- En la materia de Metodología de la programación se aplican 5 exámenes, calcular el promedio final de la materia donde la calificación menor de los exámenes se anula y el promedio se calcula en base a 4 exámenes.\n",
        "\n",
        "Desplegar el promedio final."
      ],
      "metadata": {
        "id": "LTT5XsZNV24p"
      }
    },
    {
      "cell_type": "code",
      "source": [
        "calif1=float(input(\"Cual es la calificacion numero 1: \"))\n",
        "calif2=float(input(\"Cual es la calificacion numero 2: \"))\n",
        "calif3=float(input(\"Cual es la calificacion numero 3: \"))\n",
        "calif4=float(input(\"Cual es la calificacion numero 4: \"))\n",
        "calif5=float(input(\"Cual es la calificacion numero 5: \"))\n",
        "\n",
        "menor = calif1\n",
        "\n",
        "if(calif1 < calif2):\n",
        "    if(calif1 < calif3):\n",
        "        if(calif1 < calif4):\n",
        "            if(calif1 < calif5):\n",
        "                promedio = (calif2 + calif3 + calif4 + calif5)/4\n",
        "if(calif2 < calif1):\n",
        "    if(calif2 < calif3):\n",
        "        if(calif2 < calif4):\n",
        "            if(calif2 < calif5):\n",
        "                promedio = (calif1 + calif3 + calif4 + calif5)/4\n",
        "if(calif3 < calif1):\n",
        "    if(calif3 < calif2):\n",
        "        if(calif3 < calif4):\n",
        "            if(calif3 < calif5):\n",
        "                promedio = (calif1 + calif2 + calif4 + calif5)/4\n",
        "if(calif4 < calif1):\n",
        "    if(calif4 < calif2):\n",
        "        if(calif4 < calif3):\n",
        "            if(calif4 < calif5):\n",
        "                promedio = (calif2 + calif3 + calif4 + calif5)/4\n",
        "if(calif5 < calif1):\n",
        "    if(calif5 < calif2):\n",
        "        if(calif5 < calif3):\n",
        "            if(calif5 < calif4):\n",
        "                promedio = (calif2 + calif3 + calif4 + calif5)/4\n",
        "print(\"El promedio es: \", promedio)\n",
        "\n",
        "\n",
        "\n",
        "\n",
        "\n",
        "\n",
        "\n",
        "\n",
        "\n",
        "\n"
      ],
      "metadata": {
        "colab": {
          "base_uri": "https://localhost:8080/"
        },
        "id": "XxOPsFLBV4Vo",
        "outputId": "b2cf454d-c198-4610-9c5b-c0d3cc29622e"
      },
      "execution_count": 27,
      "outputs": [
        {
          "output_type": "stream",
          "name": "stdout",
          "text": [
            "Cual es la calificacion numero 1: 90\n",
            "Cual es la calificacion numero 2: 60\n",
            "Cual es la calificacion numero 3: 80\n",
            "Cual es la calificacion numero 4: 80\n",
            "Cual es la calificacion numero 5: 80\n",
            "El promedio es:  82.5\n"
          ]
        }
      ]
    },
    {
      "cell_type": "markdown",
      "source": [
        "6.- Algoritmo que sirva para el juego del CHINCHAMPU (Piedra, Papel, Tijera) para 1 jugador y la computadora, (usar condición anidada)\n",
        "\n"
      ],
      "metadata": {
        "id": "Ho0tD-G7wEPi"
      }
    },
    {
      "cell_type": "code",
      "source": [
        "import random\n",
        "j1=int(input(\"Seleccione: \\n1-Piedra \\n2-Papel \\n3-Tijera \"))\n",
        "bot=random.randint(1,3)\n",
        "print (f\"Eleccion de la computadora {bot}\")\n",
        "if j1 == 1 :\n",
        "  if bot == 1 :\n",
        "    print (\"Empate\")\n",
        "  else :\n",
        "    if bot == 2:\n",
        "      print (\"Gana la computadora\")\n",
        "    else :\n",
        "      print (\"Gana el jugador 1\")\n",
        "elif j1 == 2 :\n",
        "  if bot == 1 :\n",
        "    print (\"Gana el jugador 1\")\n",
        "  else :\n",
        "    if bot == 2 :\n",
        "      print (\"Empate\")\n",
        "    else :\n",
        "      print (\"Gana la computadora\")\n",
        "elif j1 == 3 :\n",
        "  if bot == 1 :\n",
        "    print (\"Gana la computadora\")\n",
        "  else :\n",
        "    if bot == 2 :\n",
        "      print (\"Gana el jugador 1\")\n",
        "    else :\n",
        "      print (\"Empate\")\n",
        "else :\n",
        "  print (\"Error, ingrese un numero del 1 al 3\")"
      ],
      "metadata": {
        "colab": {
          "base_uri": "https://localhost:8080/"
        },
        "id": "xO5J_1KjwMAl",
        "outputId": "cf73a83e-915a-4f7a-e98f-4bd99224922c"
      },
      "execution_count": 28,
      "outputs": [
        {
          "output_type": "stream",
          "name": "stdout",
          "text": [
            "Seleccione: \n",
            "1-Piedra \n",
            "2-Papel \n",
            "3-Tijera 1\n",
            "Eleccion de la computadora 1\n",
            "Empate\n"
          ]
        }
      ]
    },
    {
      "cell_type": "markdown",
      "source": [
        "7.- Algoritmo que sirva para el juego del CHINCHAMPU (Piedra, Papel, Tijera) para 1 jugador y la computadora, (usar selección múltiple)"
      ],
      "metadata": {
        "id": "BXihEho0wgSG"
      }
    },
    {
      "cell_type": "code",
      "source": [
        "import random\n",
        "j1=int(input(\"Seleccione: \\n1-Piedra \\n2-Papel \\n3-Tijera \"))\n",
        "bot=random.randint(1,3)\n",
        "print (f\"Eleccion de la computadora {bot}\")\n",
        "if j1 == 1 :\n",
        "  if bot == 1 :\n",
        "    print (\"Empate\")\n",
        "  elif bot == 2 :\n",
        "    print (\"Gana la computadora\")\n",
        "  else :\n",
        "    print (\"Gana el jugador 1\")\n",
        "elif j1 == 2 :\n",
        "  if bot == 1 :\n",
        "    print (\"Gana el jugador 1\")\n",
        "  elif bot == 2 :\n",
        "    print (\"Empate\")\n",
        "  else :\n",
        "    print (\"Gana la computadora\")\n",
        "elif j1 == 3 :\n",
        "  if bot == 1 :\n",
        "    print (\"Gana la computadora\")\n",
        "  elif bot == 2 :\n",
        "    print (\"Gana el jugador 1\")\n",
        "  else :\n",
        "    print (\"Empate\")\n",
        "else :\n",
        "  print (\"Error, ingrese un numero del 1 al 3\")"
      ],
      "metadata": {
        "colab": {
          "base_uri": "https://localhost:8080/"
        },
        "id": "6KTQeE-hwlOk",
        "outputId": "befe24ab-b453-4a60-bf97-82eebaf2486e"
      },
      "execution_count": 29,
      "outputs": [
        {
          "output_type": "stream",
          "name": "stdout",
          "text": [
            "Seleccione: \n",
            "1-Piedra \n",
            "2-Papel \n",
            "3-Tijera 3\n",
            "Eleccion de la computadora 2\n",
            "Gana el jugador 1\n"
          ]
        }
      ]
    },
    {
      "cell_type": "markdown",
      "source": [
        "8.- Una tienda de electrónica ofrece descuentos a sus clientes, dependiendo del tipo de producto que compren. Si el cliente compra una computadora, tiene un descuento del 5% en el precio de la computadora y un 10% de descuento en una impresora si la compra junto con la computadora. Si el cliente compra una televisión, tiene un descuento del 7% en el precio de la televisión y un 15% de descuento en una barra de sonido si la compra junto con la televisión. Si el cliente compra una consola de videojuegos, tiene un descuento del 10% en el precio de la consola y un 20% de descuento en un juego si lo compra junto con la consola. Escribe un programa que calcule el precio a pagar por un cliente, tomando en cuenta los descuentos correspondientes."
      ],
      "metadata": {
        "id": "dCMV6T4TnSOj"
      }
    },
    {
      "cell_type": "code",
      "source": [
        "print(\"Presione el numero segun lo que compro\")\n",
        "print(\"1- Computadora\\n2- Television\\n3- Consola de videojuegos\")\n",
        "compra = int(input(\"Que compraste? \"))\n",
        "pago = float(input(\"Cuanto es en pagaras? \"))\n",
        "print(\"Presiona \\n1 - SI\\n2 - NO\")\n",
        "\n",
        "if compra == 1:\n",
        "    extra = int(input(\"Compraste la impresora? \"))\n",
        "    if extra == 1:\n",
        "        pago1 = float(input(\"Cuanto costo la computadora? \"))\n",
        "        total1 = pago1 - (pago1 * 0.05)\n",
        "        pago2 = float(input(\"Cuanto costo la impresora? \"))\n",
        "        total2 = pago2 - (pago2 * 0.1)\n",
        "        print (f\"Pago por ordenador : {total1}\")\n",
        "        print (f\"Pago por impresora : {total2}\")\n",
        "        print (f\"Pago total: {total1 + total2}\")\n",
        "    else:\n",
        "        total = pago - (pago * 0.05)\n",
        "        print (f\"Pago total: {total}\")\n",
        "\n",
        "\n",
        "elif compra == 2:\n",
        "    extra = int(input(\"Compraste la barra de sonido? \"))\n",
        "    if extra == 1:\n",
        "        pago1 = float(input(\"Cuanto costo la television? \"))\n",
        "        total1 = pago1 - (pago1 * 0.07)\n",
        "        pago2 = float(input(\"Cuanto costo la barra de sonido? \"))\n",
        "        total2 = pago2 - (pago2 * 0.15)\n",
        "        print (f\"Pago por television : {total1}\")\n",
        "        print (f\"Pago por barra de sonido: {total2}\")\n",
        "        print (f\"Pago total: {total1 + total2}\")\n",
        "\n",
        "    else:\n",
        "        total = pago - (pago * 0.07)\n",
        "        print (f\"Pago total: {total}\")\n",
        "elif compra == 3:\n",
        "    extra = int(input(\"Compraste un juego aparte con la consala? \"))\n",
        "    if extra == 1:\n",
        "        pago1 = float(input(\"Cuanto costo la consola? \"))\n",
        "        total1 = pago1 - (pago1 * 0.10)\n",
        "        pago2 = float(input(\"Cuanto costo el juego? \"))\n",
        "        total2 = pago2 - (pago2 * 0.20)\n",
        "        print (f\"Pago por television : {total1}\")\n",
        "        print (f\"Pago por barra de sonido: {total2}\")\n",
        "        print (f\"Pago total: {total1 + total2}\")\n",
        "    else:\n",
        "        total = pago - (pago * 0.10)\n",
        "        print (f\"Pago total: {total}\")\n",
        "\n",
        "elif compra > 3:\n",
        "    print(\"solo hay 3 opciones no sabes leer? \")"
      ],
      "metadata": {
        "colab": {
          "base_uri": "https://localhost:8080/"
        },
        "id": "VvpmfAffnq8c",
        "outputId": "bc216b3c-82b0-4851-f99f-358f01c51156"
      },
      "execution_count": 30,
      "outputs": [
        {
          "output_type": "stream",
          "name": "stdout",
          "text": [
            "Presione el numero segun lo que compro\n",
            "1- Computadora\n",
            "2- Television\n",
            "3- Consola de videojuegos\n",
            "Que compraste? 1\n",
            "Cuanto es en pagaras? 8000\n",
            "Presiona \n",
            "1 - SI\n",
            "2 - NO\n",
            "Compraste la impresora? 2\n",
            "Pago total: 7600.0\n"
          ]
        }
      ]
    },
    {
      "cell_type": "markdown",
      "source": [
        "\n",
        "9.- En una tienda de ropa, los precios de los productos cambian dependiendo de la temporada. Durante la temporada de verano, todos los productos tienen un descuento del 20%. Durante la temporada de invierno, los productos con etiqueta roja tienen un descuento del 30% y los productos con etiqueta verde tienen un descuento del 15%. Durante la temporada de primavera y otoño, los productos con etiqueta amarilla tienen un descuento del 10%. Escribe un programa que calcule el precio a pagar por un cliente, tomando en cuenta los descuentos correspondientes."
      ],
      "metadata": {
        "id": "UJbLuhQ8g8wC"
      }
    },
    {
      "cell_type": "code",
      "source": [
        "print(\"\\n1- Verano\\n2- Invierno\\n3- Primavera o Otoño \")\n",
        "temp=int(input(\"Seleccione en que temporada esta comprando: \"))\n",
        "gasto = float(input(\"Cuanto gastaste? \"))\n",
        "\n",
        "if temp == 1:\n",
        "     total = gasto - (gasto * 0.20)\n",
        "     print (f\"Por ser verano los articulos tienen un 20% de descuento por lo que su total sera de: {total}\")\n",
        "\n",
        "elif temp == 2:\n",
        "    print(\"Presiona \\n1 - SI\\n2 - NO\")\n",
        "    tipo = int(input(\"Elegiste tus articulos con etiqueta roja? \"))\n",
        "    if tipo == 1:\n",
        "        total = gasto - (gasto * 0.30)\n",
        "        print (f\"Por ser invierno los articulos de etiqueta roja tienen un 15% de descuento por lo que su total sera de: {total}\")\n",
        "    else:\n",
        "        print(\"Presiona \\n1 - SI\\n2 - NO\")\n",
        "        tipo = int(input(\"Elegiste tus articulos con etiqueta verde? \"))\n",
        "        if tipo == 1:\n",
        "            total = gasto - (gasto * 0.15)\n",
        "            print (f\"Por ser invierno los articulos de etiqueta verde tienen un 15% de descuento por lo que su total sera de: {total}\")\n",
        "        else:\n",
        "            print(f\"Pagaras un total de {gasto}\")\n",
        "elif temp == 3:\n",
        "    print(\"Presiona \\n1 - SI\\n2 - NO\")\n",
        "    tipo = int(input(\"Elegiste tus articulos con etiqueta amarilla? \"))\n",
        "    if tipo == 1:\n",
        "        total = gasto - (gasto * 0.10 )\n",
        "        print(f\"Pagaras un total de {total}\")\n",
        "    else:\n",
        "        print(f\"Pagaras un total de {gasto}\")\n",
        "\n",
        "elif temp > 3:\n",
        "    print(\"solo hay 3 opciones no sabes leer? \")\n"
      ],
      "metadata": {
        "colab": {
          "base_uri": "https://localhost:8080/"
        },
        "id": "Qk6JhVOWhfSX",
        "outputId": "77ae17ec-6b96-426e-d336-985b63c2b732"
      },
      "execution_count": 20,
      "outputs": [
        {
          "output_type": "stream",
          "name": "stdout",
          "text": [
            "\n",
            "1- Verano\n",
            "2- Invierno\n",
            "3- Primavera o Otoño \n",
            "Seleccione en que temporada esta comprando: 1\n",
            "Cuanto gastaste? 1500\n",
            "Por ser verano los articulos tienen un 20% de descuento por lo que su total sera de: 1200.0\n"
          ]
        }
      ]
    },
    {
      "cell_type": "markdown",
      "source": [
        "10.- Un restaurante ofrece descuentos a sus clientes, dependiendo del día de la semana y del tipo de menú que pidan. Los lunes, los clientes que pidan el menú del día tienen un descuento del 10%. Los martes, los clientes que pidan el menú infantil tienen un descuento del 20%. Los miércoles, los clientes que pidan el menú vegetariano tienen un descuento del 15%. Los jueves, los clientes que pidan el menú del chef tienen un descuento del 5%. Los viernes, los clientes que pidan el menú del día tienen un descuento del 5%. Los sábados y domingos no hay descuentos. Escribe un programa que calcule el precio a pagar por un cliente, tomando en cuenta los descuentos correspondientes.\n",
        "\n"
      ],
      "metadata": {
        "id": "bH5kuEqlamxQ"
      }
    },
    {
      "cell_type": "code",
      "source": [
        "print(\"Presiona \\n1- Lunes\\n2- Martes\\n3- Miercoles\\n4- Jueves\")\n",
        "print(\"5- Viernes\\n-6- Sabado\\n7- Domingo\")\n",
        "dia = int(input(\"Que dia de la semana es? \"))\n",
        "gasto = float(input(\"Cuanto gastaste? \"))\n",
        "print(\"Presiona \\n1 - SI\\n2 - NO\")\n",
        "if dia == 1:\n",
        "    menu = int(input(\"Elegiste el menu del dia? \"))\n",
        "    if menu == 1:\n",
        "        pago = gasto - (gasto * 0.10 )\n",
        "        print(f\"Pagaras un total de {pago}\")\n",
        "    else:\n",
        "        print(f\"Pagaras un total de {gasto}\")\n",
        "elif dia == 2:\n",
        "    menu = int(input(\"Elegiste el menu infantil? \"))\n",
        "    if menu == 1:\n",
        "        pago = gasto - (gasto * 0.20 )\n",
        "        print(f\"Pagaras un total de {pago}\")\n",
        "    else:\n",
        "        print(f\"Pagaras un total de {gasto}\")\n",
        "elif dia == 3:\n",
        "    menu = int(input(\"Elegiste el menu vegetariano \"))\n",
        "    if menu == 1:\n",
        "        pago = gasto - (gasto * 0.15 )\n",
        "        print(f\"Pagaras un total de {pago}\")\n",
        "    else:\n",
        "        print(f\"Pagaras un total de {gasto}\")\n",
        "elif dia == 4:\n",
        "    menu = int(input(\"Elegiste el menu chef? \"))\n",
        "    if menu == 1:\n",
        "        pago = gasto - (gasto * 0.05 )\n",
        "        print(f\"Pagaras un total de {pago}\")\n",
        "    else:\n",
        "        print(f\"Pagaras un total de {gasto}\")\n",
        "elif dia == 5:\n",
        "    menu = int(input(\"Elegiste el menu del dia? \"))\n",
        "    if menu == 1:\n",
        "        pago = gasto - (gasto * 0.05 )\n",
        "        print(f\"Pagaras un total de {pago}\")\n",
        "    else:\n",
        "        print(f\"Pagaras un total de {gasto}\")\n",
        "elif dia == 6 or dia == 7:\n",
        "    print(\"No hay descuentos\")\n",
        "    print(f\"Pagaras un total de {gasto}\")\n",
        "\n",
        "elif dia > 7:\n",
        "    print(\"solo hay 7 dias en la semana tas mal mijo\")\n"
      ],
      "metadata": {
        "colab": {
          "base_uri": "https://localhost:8080/"
        },
        "id": "4Be44AqpcZY6",
        "outputId": "0d9d3914-6f40-4754-d1a4-1a5e54a0fadc"
      },
      "execution_count": 21,
      "outputs": [
        {
          "output_type": "stream",
          "name": "stdout",
          "text": [
            "Presiona \n",
            "1- Lunes\n",
            "2- Martes\n",
            "3- Miercoles\n",
            "4- Jueves\n",
            "5- Viernes\n",
            "-6- Sabado\n",
            "7- Domingo\n",
            "Que dia de la semana es? 2\n",
            "Cuanto gastaste? 540\n",
            "Presiona \n",
            "1 - SI\n",
            "2 - NO\n",
            "Elegiste el menu infantil? 1\n",
            "Pagaras un total de 432.0\n"
          ]
        }
      ]
    }
  ]
}
