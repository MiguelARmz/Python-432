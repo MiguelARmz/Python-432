{
  "nbformat": 4,
  "nbformat_minor": 0,
  "metadata": {
    "colab": {
      "provenance": [],
      "authorship_tag": "ABX9TyPcRxpJQE86bRdux2i3GNxs",
      "include_colab_link": true
    },
    "kernelspec": {
      "name": "python3",
      "display_name": "Python 3"
    },
    "language_info": {
      "name": "python"
    }
  },
  "cells": [
    {
      "cell_type": "markdown",
      "metadata": {
        "id": "view-in-github",
        "colab_type": "text"
      },
      "source": [
        "<a href=\"https://colab.research.google.com/github/MiguelARmz/Python-432/blob/main/MARM_ACTV7.ipynb\" target=\"_parent\"><img src=\"https://colab.research.google.com/assets/colab-badge.svg\" alt=\"Open In Colab\"/></a>"
      ]
    },
    {
      "cell_type": "markdown",
      "source": [
        "# Actividad 7\n",
        "Alumno: Miguel Angel Ramirez Monjaraz\n",
        "\n",
        "Grupo: Computacion - 432\n",
        "\n",
        "Materia: Lenguaje de programacion Python\n",
        "\n",
        "Fecha: 01 / OCTUBRE / 2023\n",
        "\n",
        "\n"
      ],
      "metadata": {
        "id": "iT16kc2j59tv"
      }
    },
    {
      "cell_type": "markdown",
      "source": [
        "# Librerias"
      ],
      "metadata": {
        "id": "rvAFDjAS5_OB"
      }
    },
    {
      "cell_type": "code",
      "source": [
        "import random"
      ],
      "metadata": {
        "id": "_08oofcJ6462"
      },
      "execution_count": 104,
      "outputs": []
    },
    {
      "cell_type": "code",
      "source": [
        "def vali_num(n):\n",
        "    try:\n",
        "        int(n)\n",
        "        return True\n",
        "    except ValueError:\n",
        "        return False"
      ],
      "metadata": {
        "id": "rNXuOSaAf1aV"
      },
      "execution_count": 106,
      "outputs": []
    },
    {
      "cell_type": "markdown",
      "source": [
        "\n",
        "1.- Función que utilice una lista con los nombres de tus mascotas, o artistas favoritos, (minimo 5, maximo 10) imprimir las cadenas y la cantidad de caracteres de cada cadena.  "
      ],
      "metadata": {
        "id": "RmkJwuF45_jC"
      }
    },
    {
      "cell_type": "code",
      "execution_count": 107,
      "metadata": {
        "id": "Xu6tGUqqwPHE"
      },
      "outputs": [],
      "source": [
        "\n",
        "def nombrefav():\n",
        "    try:\n",
        "        cant = int(input(\"Cuantos nombres quieres leer? \"))\n",
        "        if cant < 5 or cant > 10:\n",
        "            raise ValueError(\"Fuera del rango\")\n",
        "    except ValueError as e:\n",
        "        print(\"Error: \",e)\n",
        "    except:\n",
        "        print(\"Fallo\")\n",
        "    else:\n",
        "        lista = []\n",
        "        for i in range(cant):\n",
        "            fav = input(\"Ingrese el nombre: \")\n",
        "            lista.append(fav)\n",
        "\n",
        "        for i, elemento in enumerate(lista):\n",
        "            caract = len(elemento)\n",
        "            print(f\"{i} --->{elemento} contiene: {caract} caracteres\")"
      ]
    },
    {
      "cell_type": "code",
      "source": [
        "\n",
        "nombrefav()"
      ],
      "metadata": {
        "colab": {
          "base_uri": "https://localhost:8080/"
        },
        "id": "rmxKZgaZ3ZoG",
        "outputId": "e50d5244-5abc-4641-efc5-c233eeba6a84"
      },
      "execution_count": 108,
      "outputs": [
        {
          "output_type": "stream",
          "name": "stdout",
          "text": [
            "Cuantos nombres quieres leer? 6\n",
            "Ingrese el nombre: Daiky\n",
            "Ingrese el nombre: Flaffy\n",
            "Ingrese el nombre: Gatos\n",
            "Ingrese el nombre: Perros\n",
            "Ingrese el nombre: Gojo\n",
            "Ingrese el nombre: Los temerarios\n",
            "0 --->Daiky contiene: 5 caracteres\n",
            "1 --->Flaffy contiene: 6 caracteres\n",
            "2 --->Gatos contiene: 5 caracteres\n",
            "3 --->Perros contiene: 6 caracteres\n",
            "4 --->Gojo contiene: 4 caracteres\n",
            "5 --->Los temerarios contiene: 14 caracteres\n"
          ]
        }
      ]
    },
    {
      "cell_type": "markdown",
      "source": [
        "2.- Programa que utilice 2 funciones,\n",
        "\n",
        "Función que genere y regrese una lista con 10 números aleatorios entre el 30 y 50 (no repetidos).\n",
        "Función que reciba una lista , Imprimir la lista (Indice y Valor )\n",
        "\n",
        "\n",
        " Mandar llamar la función e imprimir toda la lista."
      ],
      "metadata": {
        "id": "JKKlm1tV5_Xa"
      }
    },
    {
      "cell_type": "code",
      "source": [
        "def generar():\n",
        "    try:\n",
        "        alea = []\n",
        "        while len(alea) < 10:\n",
        "            numero = random.randint(30, 50)\n",
        "            if numero not in alea:\n",
        "                alea.append(numero)\n",
        "    except:\n",
        "        print(\"Syntax Error\")\n",
        "    else:\n",
        "        return alea"
      ],
      "metadata": {
        "id": "8B3nkldm56W6"
      },
      "execution_count": 109,
      "outputs": []
    },
    {
      "cell_type": "code",
      "source": [
        "def mostrar(lista):\n",
        "    try:\n",
        "        for i in range(10):\n",
        "            x = isinstance(lista[i],int)\n",
        "            if x is False:\n",
        "                break\n",
        "    except:\n",
        "        print(\"Ocurrio \")\n",
        "    else:\n",
        "        for i, elemento in enumerate(lista):\n",
        "            print(f\"{i} --->{elemento}\")"
      ],
      "metadata": {
        "id": "9FU6lMv1DFIk"
      },
      "execution_count": 111,
      "outputs": []
    },
    {
      "cell_type": "code",
      "source": [
        "x = generar()\n",
        "mostrar(x)"
      ],
      "metadata": {
        "id": "p_cDvJ7I7p-R",
        "outputId": "c3fb9492-dc38-43eb-8f71-c80b22347cc7",
        "colab": {
          "base_uri": "https://localhost:8080/"
        }
      },
      "execution_count": 112,
      "outputs": [
        {
          "output_type": "stream",
          "name": "stdout",
          "text": [
            "0 --->50\n",
            "1 --->31\n",
            "2 --->35\n",
            "3 --->34\n",
            "4 --->33\n",
            "5 --->48\n",
            "6 --->45\n",
            "7 --->37\n",
            "8 --->30\n",
            "9 --->43\n"
          ]
        }
      ]
    },
    {
      "cell_type": "markdown",
      "source": [
        "3.- Escribe una función que reciba dos listas de números del mismo tamaño y calcule la suma de los elementos correspondientes de cada lista. (regresar una nueva lista) . Luego, muestra una lista con los resultados de cada suma. Nota: si las listas no son del mismo tamaño mandar msge y utilizar el tamaño de la lista mas pequeña)\n",
        "\n"
      ],
      "metadata": {
        "id": "Puu4QMxYGQeV"
      }
    },
    {
      "cell_type": "code",
      "source": [
        "def suma_listas(lista1, lista2):\n",
        "    try:\n",
        "        a = len(lista1)\n",
        "        b = len(lista2)\n",
        "        if a != b:\n",
        "            print(\"Tamaños diferentes, se usara el valor mas pequeño\")\n",
        "            if a < b:\n",
        "                cant = a\n",
        "            else:\n",
        "                cant = b\n",
        "\n",
        "    except Exception:\n",
        "        print(\"ERROR\")\n",
        "    else:\n",
        "        lista3 = []\n",
        "        for i in range(cant):\n",
        "            lista3.append(lista1[i] + lista2[i])\n",
        "        return lista3"
      ],
      "metadata": {
        "id": "-ePx2FvoGVUs"
      },
      "execution_count": 113,
      "outputs": []
    },
    {
      "cell_type": "code",
      "source": [
        "try:\n",
        "    lista1 = []\n",
        "    lista2 = []\n",
        "    tam1 = int(input(\"De cuanto es el tamaño del la lista 1: \"))\n",
        "    tam2 = int(input(\"De cuanto es el tamaño del la lista 2: \"))\n",
        "    if int(tam1) == False:\n",
        "        raise Exception(\"debe ser un numero\")\n",
        "    if int(tam2) == False:\n",
        "        raise Exception(\"debe ser un numero\")\n",
        "\n",
        "except Exception as e:\n",
        "    print(\"debe ser un numero\",e )\n",
        "else:\n",
        "    print(\"Llenao lista 1\")\n",
        "    for i in range(tam1):\n",
        "        num = int(input(\"Ingrese el numero \"))\n",
        "        lista1.append(num)\n",
        "    print(\"Llenao lista 2\")\n",
        "    for i in range(tam2):\n",
        "        num = int(input(\"Ingrese el numero \"))\n",
        "        lista2.append(num)\n",
        "    lista3 = suma_listas(lista1,lista2)\n",
        "    print(f\"La suma de las listas es: {lista3}\")\n"
      ],
      "metadata": {
        "colab": {
          "base_uri": "https://localhost:8080/"
        },
        "id": "75PMSiorBeeh",
        "outputId": "8eb73f13-6028-46fc-a1eb-1047d9b11a5e"
      },
      "execution_count": 115,
      "outputs": [
        {
          "output_type": "stream",
          "name": "stdout",
          "text": [
            "De cuanto es el tamaño del la lista 1: 4\n",
            "De cuanto es el tamaño del la lista 2: 5\n",
            "Llenao lista 1\n",
            "Ingrese el numero 3\n",
            "Ingrese el numero 2\n",
            "Ingrese el numero 5\n",
            "Ingrese el numero 8\n",
            "Llenao lista 2\n",
            "Ingrese el numero 7\n",
            "Ingrese el numero 3\n",
            "Ingrese el numero 2\n",
            "Ingrese el numero 6\n",
            "Ingrese el numero 4\n",
            "Tamaños diferentes, se usara el valor mas pequeño\n",
            "La suma de las listas es: [10, 5, 7, 14]\n"
          ]
        }
      ]
    },
    {
      "cell_type": "markdown",
      "source": [
        "4.- Escribe una función llamada eliminar_duplicados que reciba una lista como parámetro y elimine los elementos duplicados. El resultado debe ser una nueva lista sin duplicados. Pide al usuario que ingrese una lista y luego llama a la función eliminar_duplicados para mostrar la lista sin duplicados. (Solo Numeros enteros, validar)"
      ],
      "metadata": {
        "id": "ruG0zMlVChL7"
      }
    },
    {
      "cell_type": "code",
      "source": [
        "def validar():\n",
        "    try:\n",
        "        lista = []\n",
        "        cant = int(input(\"Cuantos numeros vas a leer? \"))\n",
        "        x = isinstance(cant,int)\n",
        "        if x is True:\n",
        "            print(\" \",end='')\n",
        "        else:\n",
        "            raise Exception(\"solo numero \")\n",
        "\n",
        "        for i in range(cant):\n",
        "            num = int(input(\"Ingrese el numero \"))\n",
        "            lista.append(num)\n",
        "    except Exception as e:\n",
        "        print(\"Error: \",e)\n",
        "    else:\n",
        "        long = len(lista)\n",
        "        for i in range(long):\n",
        "            x = isinstance(lista[i],int)\n",
        "            if x is True:\n",
        "                print(\" \",end='')\n",
        "            else:\n",
        "                print(f\"Solo tienen que ser enteros, el elemento {i+1} no es entero\")\n",
        "                return False\n",
        "                break\n",
        "        else:\n",
        "            return lista"
      ],
      "metadata": {
        "id": "t_IghdsZJVd1"
      },
      "execution_count": 116,
      "outputs": []
    },
    {
      "cell_type": "code",
      "source": [
        "def eliminar_duplicados(lista):\n",
        "    try:\n",
        "        nueva_lista = []\n",
        "        for ele in lista:\n",
        "            if ele not in nueva_lista:\n",
        "                nueva_lista.append(ele)\n",
        "    except:\n",
        "        print(\"Error\")\n",
        "    else:\n",
        "        print(f\"La nueva lista sin duplicados es = {nueva_lista}\")\n"
      ],
      "metadata": {
        "id": "2ClYM77IClW6"
      },
      "execution_count": 119,
      "outputs": []
    },
    {
      "cell_type": "code",
      "source": [
        "lista = validar()\n",
        "eliminar_duplicados(lista)"
      ],
      "metadata": {
        "id": "sRwp5xqXEMe6",
        "colab": {
          "base_uri": "https://localhost:8080/"
        },
        "outputId": "f6754a53-d99c-4ac4-9286-1e59ed1b2121"
      },
      "execution_count": 120,
      "outputs": [
        {
          "output_type": "stream",
          "name": "stdout",
          "text": [
            "Cuantos numeros vas a leer? 6\n",
            " Ingrese el numero 2\n",
            "Ingrese el numero 2\n",
            "Ingrese el numero 5\n",
            "Ingrese el numero 8\n",
            "Ingrese el numero 7\n",
            "Ingrese el numero 4\n",
            "      La nueva lista sin duplicados es = [2, 5, 8, 7, 4]\n"
          ]
        }
      ]
    },
    {
      "cell_type": "markdown",
      "source": [
        "5.- Escribe una función que calcule la media y la mediana de una lista de números enteros.\n",
        "\n",
        "La media es la suma de todos los elementos y dividido entre la cantidad de elementos\n",
        "\n",
        "La mediana es el valor que queda en la mitad de la lista cuando se ordena de forma ascendente. Si la lista tiene un número par de elementos, la mediana se calcula como el promedio de los dos valores centrales. Puedes utilizar el método sort() para ordenar la lista y luego calcular la mediana según el tamaño de la lista."
      ],
      "metadata": {
        "id": "imwEZxrJLeqh"
      }
    },
    {
      "cell_type": "code",
      "source": [
        "def media_mediana():\n",
        "    try:\n",
        "        lista = []\n",
        "        lista = validar()\n",
        "    except Exception as e:\n",
        "        print(\"Error: \",e)\n",
        "    else:\n",
        "        media = 0\n",
        "        long = len(lista)\n",
        "        for i in range(long):\n",
        "            media += lista[i]\n",
        "        print(f\"La media es de {media/long}\")\n",
        "\n",
        "        lista.sort\n",
        "        mitad = long // 2\n",
        "        ultimo = mitad\n",
        "        if len(lista) % 2 != 0:\n",
        "            print(f\"La mediana es de {lista[ultimo]}\")\n",
        "        else:\n",
        "            penultimo = ultimo - 1\n",
        "            print(f\"La mediana de de {(lista[ultimo] + lista[penultimo])/2}\")"
      ],
      "metadata": {
        "id": "HsD8UWDkL4g9"
      },
      "execution_count": 125,
      "outputs": []
    },
    {
      "cell_type": "code",
      "source": [
        "media_mediana()"
      ],
      "metadata": {
        "colab": {
          "base_uri": "https://localhost:8080/"
        },
        "id": "gNInpUS5Xc-7",
        "outputId": "fda26ad1-2c62-42f5-89d5-47a6d9813bd9"
      },
      "execution_count": 128,
      "outputs": [
        {
          "output_type": "stream",
          "name": "stdout",
          "text": [
            "Cuantos numeros vas a leer? 6\n",
            " Ingrese el numero 2\n",
            "Ingrese el numero 4\n",
            "Ingrese el numero 6\n",
            "Ingrese el numero 7\n",
            "Ingrese el numero 8\n",
            "Ingrese el numero 1\n",
            "      La media es de 4.666666666666667\n",
            "La mediana de de 6.5\n"
          ]
        }
      ]
    },
    {
      "cell_type": "markdown",
      "source": [],
      "metadata": {
        "id": "75cNcdmnYxpN"
      }
    }
  ]
}